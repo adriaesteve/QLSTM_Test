{
 "cells": [
  {
   "cell_type": "code",
   "execution_count": 4,
   "id": "7e198a5a",
   "metadata": {
    "_cell_guid": "76f1f3d0-b6fe-44a9-993e-ecfe7f108944",
    "_uuid": "c0e8bf21-9fc1-464b-a11b-6bdf4b0f9fce",
    "execution": {
     "iopub.execute_input": "2021-10-12T10:31:04.765146Z",
     "iopub.status.busy": "2021-10-12T10:31:04.763576Z",
     "iopub.status.idle": "2021-10-12T10:31:10.370091Z",
     "shell.execute_reply": "2021-10-12T10:31:10.370688Z",
     "shell.execute_reply.started": "2021-10-12T10:27:50.635848Z"
    },
    "jupyter": {
     "outputs_hidden": false
    },
    "papermill": {
     "duration": 5.633701,
     "end_time": "2021-10-12T10:31:10.371054",
     "exception": false,
     "start_time": "2021-10-12T10:31:04.737353",
     "status": "completed"
    },
    "tags": []
   },
   "outputs": [
    {
     "name": "stderr",
     "output_type": "stream",
     "text": [
      "[nltk_data] Downloading package stopwords to\n",
      "[nltk_data]     C:\\Users\\admin\\AppData\\Roaming\\nltk_data...\n",
      "[nltk_data]   Package stopwords is already up-to-date!\n"
     ]
    }
   ],
   "source": [
    "import numpy as np\n",
    "import pandas as pd\n",
    "import os\n",
    "from tqdm import tqdm\n",
    "\n",
    "#For Preprocessing\n",
    "import re    # RegEx for removing non-letter characters\n",
    "import nltk  # natural language processing\n",
    "nltk.download(\"stopwords\")\n",
    "from nltk.corpus import stopwords\n",
    "from nltk.stem.porter import *\n",
    "from nltk.sentiment.vader import SentimentIntensityAnalyzer\n",
    "\n",
    "# For Building the model\n",
    "from sklearn.model_selection import train_test_split\n",
    "import tensorflow as tf\n",
    "import seaborn as sns\n",
    "\n",
    "#For data visualization\n",
    "import matplotlib.pyplot as plt\n",
    "import matplotlib.patches as mpatches\n",
    "%matplotlib inline\n",
    "\n",
    "pd.options.plotting.backend = \"plotly\""
   ]
  },
  {
   "cell_type": "code",
   "execution_count": 5,
   "id": "2ae1ae41",
   "metadata": {
    "execution": {
     "iopub.execute_input": "2021-10-12T10:31:10.423033Z",
     "iopub.status.busy": "2021-10-12T10:31:10.420473Z",
     "iopub.status.idle": "2021-10-12T10:31:26.394693Z",
     "shell.execute_reply": "2021-10-12T10:31:26.395099Z",
     "shell.execute_reply.started": "2021-10-12T10:27:50.676258Z"
    },
    "papermill": {
     "duration": 15.999919,
     "end_time": "2021-10-12T10:31:26.395253",
     "exception": false,
     "start_time": "2021-10-12T10:31:10.395334",
     "status": "completed"
    },
    "tags": []
   },
   "outputs": [
    {
     "name": "stderr",
     "output_type": "stream",
     "text": [
      "C:\\Users\\admin\\anaconda3\\envs\\PennyLane_Python36\\lib\\site-packages\\IPython\\core\\interactiveshell.py:3072: DtypeWarning:\n",
      "\n",
      "Columns (5,6,7,12) have mixed types.Specify dtype option on import or set low_memory=False.\n",
      "\n"
     ]
    },
    {
     "data": {
      "text/html": [
       "<div>\n",
       "<style scoped>\n",
       "    .dataframe tbody tr th:only-of-type {\n",
       "        vertical-align: middle;\n",
       "    }\n",
       "\n",
       "    .dataframe tbody tr th {\n",
       "        vertical-align: top;\n",
       "    }\n",
       "\n",
       "    .dataframe thead th {\n",
       "        text-align: right;\n",
       "    }\n",
       "</style>\n",
       "<table border=\"1\" class=\"dataframe\">\n",
       "  <thead>\n",
       "    <tr style=\"text-align: right;\">\n",
       "      <th></th>\n",
       "      <th>user_name</th>\n",
       "      <th>user_location</th>\n",
       "      <th>user_description</th>\n",
       "      <th>user_created</th>\n",
       "      <th>user_followers</th>\n",
       "      <th>user_friends</th>\n",
       "      <th>user_favourites</th>\n",
       "      <th>user_verified</th>\n",
       "      <th>date</th>\n",
       "      <th>text</th>\n",
       "      <th>hashtags</th>\n",
       "      <th>source</th>\n",
       "      <th>is_retweet</th>\n",
       "    </tr>\n",
       "  </thead>\n",
       "  <tbody>\n",
       "    <tr>\n",
       "      <th>0</th>\n",
       "      <td>DeSota Wilson</td>\n",
       "      <td>Atlanta, GA</td>\n",
       "      <td>Biz Consultant, real estate, fintech, startups...</td>\n",
       "      <td>2009-04-26 20:05:09</td>\n",
       "      <td>8534.0</td>\n",
       "      <td>7605</td>\n",
       "      <td>4838</td>\n",
       "      <td>False</td>\n",
       "      <td>2021-02-10 23:59:04</td>\n",
       "      <td>Blue Ridge Bank shares halted by NYSE after #b...</td>\n",
       "      <td>['bitcoin']</td>\n",
       "      <td>Twitter Web App</td>\n",
       "      <td>False</td>\n",
       "    </tr>\n",
       "    <tr>\n",
       "      <th>1</th>\n",
       "      <td>CryptoND</td>\n",
       "      <td>NaN</td>\n",
       "      <td>😎 BITCOINLIVE is a Dutch platform aimed at inf...</td>\n",
       "      <td>2019-10-17 20:12:10</td>\n",
       "      <td>6769.0</td>\n",
       "      <td>1532</td>\n",
       "      <td>25483</td>\n",
       "      <td>False</td>\n",
       "      <td>2021-02-10 23:58:48</td>\n",
       "      <td>😎 Today, that's this #Thursday, we will do a \"...</td>\n",
       "      <td>['Thursday', 'Btc', 'wallet', 'security']</td>\n",
       "      <td>Twitter for Android</td>\n",
       "      <td>False</td>\n",
       "    </tr>\n",
       "    <tr>\n",
       "      <th>2</th>\n",
       "      <td>Tdlmatias</td>\n",
       "      <td>London, England</td>\n",
       "      <td>IM Academy : The best #forex, #SelfEducation, ...</td>\n",
       "      <td>2014-11-10 10:50:37</td>\n",
       "      <td>128.0</td>\n",
       "      <td>332</td>\n",
       "      <td>924</td>\n",
       "      <td>False</td>\n",
       "      <td>2021-02-10 23:54:48</td>\n",
       "      <td>Guys evening, I have read this article about B...</td>\n",
       "      <td>NaN</td>\n",
       "      <td>Twitter Web App</td>\n",
       "      <td>False</td>\n",
       "    </tr>\n",
       "    <tr>\n",
       "      <th>3</th>\n",
       "      <td>Crypto is the future</td>\n",
       "      <td>NaN</td>\n",
       "      <td>I will post a lot of buying signals for BTC tr...</td>\n",
       "      <td>2019-09-28 16:48:12</td>\n",
       "      <td>625.0</td>\n",
       "      <td>129</td>\n",
       "      <td>14</td>\n",
       "      <td>False</td>\n",
       "      <td>2021-02-10 23:54:33</td>\n",
       "      <td>$BTC A big chance in a billion! Price: \\487264...</td>\n",
       "      <td>['Bitcoin', 'FX', 'BTC', 'crypto']</td>\n",
       "      <td>dlvr.it</td>\n",
       "      <td>False</td>\n",
       "    </tr>\n",
       "    <tr>\n",
       "      <th>4</th>\n",
       "      <td>Alex Kirchmaier 🇦🇹🇸🇪 #FactsSuperspreader</td>\n",
       "      <td>Europa</td>\n",
       "      <td>Co-founder @RENJERJerky | Forbes 30Under30 | I...</td>\n",
       "      <td>2016-02-03 13:15:55</td>\n",
       "      <td>1249.0</td>\n",
       "      <td>1472</td>\n",
       "      <td>10482</td>\n",
       "      <td>False</td>\n",
       "      <td>2021-02-10 23:54:06</td>\n",
       "      <td>This network is secured by 9 508 nodes as of t...</td>\n",
       "      <td>['BTC']</td>\n",
       "      <td>Twitter Web App</td>\n",
       "      <td>False</td>\n",
       "    </tr>\n",
       "    <tr>\n",
       "      <th>...</th>\n",
       "      <td>...</td>\n",
       "      <td>...</td>\n",
       "      <td>...</td>\n",
       "      <td>...</td>\n",
       "      <td>...</td>\n",
       "      <td>...</td>\n",
       "      <td>...</td>\n",
       "      <td>...</td>\n",
       "      <td>...</td>\n",
       "      <td>...</td>\n",
       "      <td>...</td>\n",
       "      <td>...</td>\n",
       "      <td>...</td>\n",
       "    </tr>\n",
       "    <tr>\n",
       "      <th>1232804</th>\n",
       "      <td>Angela</td>\n",
       "      <td>Brighton East, Victoria</td>\n",
       "      <td>Be careful. The devil has a pretty face. 😈 #Bi...</td>\n",
       "      <td>2009-05-21 02:14:09</td>\n",
       "      <td>78.0</td>\n",
       "      <td>1206</td>\n",
       "      <td>4802</td>\n",
       "      <td>False</td>\n",
       "      <td>2021-09-10 21:15:34</td>\n",
       "      <td>@SpeedUpBSC @debi_pada @AdaTiers @golf_grinder...</td>\n",
       "      <td>['BTC', 'BSCGems', 'BNB', 'SpeeeUpBSC', 'Airdr...</td>\n",
       "      <td>AngelaAngela</td>\n",
       "      <td>False</td>\n",
       "    </tr>\n",
       "    <tr>\n",
       "      <th>1232805</th>\n",
       "      <td>Mike Smith</td>\n",
       "      <td>London, England</td>\n",
       "      <td>NaN</td>\n",
       "      <td>2021-09-08 21:35:25</td>\n",
       "      <td>0.0</td>\n",
       "      <td>24</td>\n",
       "      <td>2</td>\n",
       "      <td>False</td>\n",
       "      <td>2021-09-10 21:15:33</td>\n",
       "      <td>This time, what will happen between the US SEC...</td>\n",
       "      <td>['BTC', 'ETH', 'Coinbase', 'SEC']</td>\n",
       "      <td>Twitter Web App</td>\n",
       "      <td>False</td>\n",
       "    </tr>\n",
       "    <tr>\n",
       "      <th>1232806</th>\n",
       "      <td>CryptoMatic 💫</td>\n",
       "      <td>NaN</td>\n",
       "      <td>crypto market analyst 📈📊📉\\nDM for business!! 🤝...</td>\n",
       "      <td>2020-07-27 10:02:22</td>\n",
       "      <td>292.0</td>\n",
       "      <td>161</td>\n",
       "      <td>14780</td>\n",
       "      <td>False</td>\n",
       "      <td>2021-09-10 21:15:04</td>\n",
       "      <td>One #btc is only 205 #EGLD.</td>\n",
       "      <td>['btc', 'EGLD']</td>\n",
       "      <td>Twitter for Android</td>\n",
       "      <td>False</td>\n",
       "    </tr>\n",
       "    <tr>\n",
       "      <th>1232807</th>\n",
       "      <td>OC34N</td>\n",
       "      <td>San Diego</td>\n",
       "      <td>♤♡◇♧\\nPatriot\\nCreator\\njoin new Discord tradi...</td>\n",
       "      <td>2012-08-08 03:25:50</td>\n",
       "      <td>34.0</td>\n",
       "      <td>263</td>\n",
       "      <td>826</td>\n",
       "      <td>False</td>\n",
       "      <td>2021-09-10 21:14:46</td>\n",
       "      <td>Want to join a group that posted TSLA 745P day...</td>\n",
       "      <td>['TSLA', 'AMC', 'GME', 'WISH', 'BBIG', 'AMZN',...</td>\n",
       "      <td>Twitter Web App</td>\n",
       "      <td>False</td>\n",
       "    </tr>\n",
       "    <tr>\n",
       "      <th>1232808</th>\n",
       "      <td>HEXstreamers</td>\n",
       "      <td>NaN</td>\n",
       "      <td>The HEX TV Guide - https://t.co/D9SD7SPEt6</td>\n",
       "      <td>2021-01-29 17:15:43</td>\n",
       "      <td>1529.0</td>\n",
       "      <td>1384</td>\n",
       "      <td>633</td>\n",
       "      <td>False</td>\n",
       "      <td>2021-09-10 21:14:37</td>\n",
       "      <td>cabanacrypto is live! @CabanaCrypto\\n\\n\"HEX Ha...</td>\n",
       "      <td>['HEX', 'Crypto', 'BTC', 'ETH', 'DeFi', 'Passi...</td>\n",
       "      <td>HEXstreamers</td>\n",
       "      <td>False</td>\n",
       "    </tr>\n",
       "  </tbody>\n",
       "</table>\n",
       "<p>1232809 rows × 13 columns</p>\n",
       "</div>"
      ],
      "text/plain": [
       "                                        user_name            user_location  \\\n",
       "0                                   DeSota Wilson              Atlanta, GA   \n",
       "1                                        CryptoND                      NaN   \n",
       "2                                       Tdlmatias          London, England   \n",
       "3                            Crypto is the future                      NaN   \n",
       "4        Alex Kirchmaier 🇦🇹🇸🇪 #FactsSuperspreader                   Europa   \n",
       "...                                           ...                      ...   \n",
       "1232804                                    Angela  Brighton East, Victoria   \n",
       "1232805                                Mike Smith          London, England   \n",
       "1232806                             CryptoMatic 💫                      NaN   \n",
       "1232807                                     OC34N                San Diego   \n",
       "1232808                              HEXstreamers                      NaN   \n",
       "\n",
       "                                          user_description  \\\n",
       "0        Biz Consultant, real estate, fintech, startups...   \n",
       "1        😎 BITCOINLIVE is a Dutch platform aimed at inf...   \n",
       "2        IM Academy : The best #forex, #SelfEducation, ...   \n",
       "3        I will post a lot of buying signals for BTC tr...   \n",
       "4        Co-founder @RENJERJerky | Forbes 30Under30 | I...   \n",
       "...                                                    ...   \n",
       "1232804  Be careful. The devil has a pretty face. 😈 #Bi...   \n",
       "1232805                                                NaN   \n",
       "1232806  crypto market analyst 📈📊📉\\nDM for business!! 🤝...   \n",
       "1232807  ♤♡◇♧\\nPatriot\\nCreator\\njoin new Discord tradi...   \n",
       "1232808         The HEX TV Guide - https://t.co/D9SD7SPEt6   \n",
       "\n",
       "                user_created  user_followers user_friends user_favourites  \\\n",
       "0        2009-04-26 20:05:09          8534.0         7605            4838   \n",
       "1        2019-10-17 20:12:10          6769.0         1532           25483   \n",
       "2        2014-11-10 10:50:37           128.0          332             924   \n",
       "3        2019-09-28 16:48:12           625.0          129              14   \n",
       "4        2016-02-03 13:15:55          1249.0         1472           10482   \n",
       "...                      ...             ...          ...             ...   \n",
       "1232804  2009-05-21 02:14:09            78.0         1206            4802   \n",
       "1232805  2021-09-08 21:35:25             0.0           24               2   \n",
       "1232806  2020-07-27 10:02:22           292.0          161           14780   \n",
       "1232807  2012-08-08 03:25:50            34.0          263             826   \n",
       "1232808  2021-01-29 17:15:43          1529.0         1384             633   \n",
       "\n",
       "        user_verified                 date  \\\n",
       "0               False  2021-02-10 23:59:04   \n",
       "1               False  2021-02-10 23:58:48   \n",
       "2               False  2021-02-10 23:54:48   \n",
       "3               False  2021-02-10 23:54:33   \n",
       "4               False  2021-02-10 23:54:06   \n",
       "...               ...                  ...   \n",
       "1232804         False  2021-09-10 21:15:34   \n",
       "1232805         False  2021-09-10 21:15:33   \n",
       "1232806         False  2021-09-10 21:15:04   \n",
       "1232807         False  2021-09-10 21:14:46   \n",
       "1232808         False  2021-09-10 21:14:37   \n",
       "\n",
       "                                                      text  \\\n",
       "0        Blue Ridge Bank shares halted by NYSE after #b...   \n",
       "1        😎 Today, that's this #Thursday, we will do a \"...   \n",
       "2        Guys evening, I have read this article about B...   \n",
       "3        $BTC A big chance in a billion! Price: \\487264...   \n",
       "4        This network is secured by 9 508 nodes as of t...   \n",
       "...                                                    ...   \n",
       "1232804  @SpeedUpBSC @debi_pada @AdaTiers @golf_grinder...   \n",
       "1232805  This time, what will happen between the US SEC...   \n",
       "1232806                        One #btc is only 205 #EGLD.   \n",
       "1232807  Want to join a group that posted TSLA 745P day...   \n",
       "1232808  cabanacrypto is live! @CabanaCrypto\\n\\n\"HEX Ha...   \n",
       "\n",
       "                                                  hashtags  \\\n",
       "0                                              ['bitcoin']   \n",
       "1                ['Thursday', 'Btc', 'wallet', 'security']   \n",
       "2                                                      NaN   \n",
       "3                       ['Bitcoin', 'FX', 'BTC', 'crypto']   \n",
       "4                                                  ['BTC']   \n",
       "...                                                    ...   \n",
       "1232804  ['BTC', 'BSCGems', 'BNB', 'SpeeeUpBSC', 'Airdr...   \n",
       "1232805                  ['BTC', 'ETH', 'Coinbase', 'SEC']   \n",
       "1232806                                    ['btc', 'EGLD']   \n",
       "1232807  ['TSLA', 'AMC', 'GME', 'WISH', 'BBIG', 'AMZN',...   \n",
       "1232808  ['HEX', 'Crypto', 'BTC', 'ETH', 'DeFi', 'Passi...   \n",
       "\n",
       "                      source is_retweet  \n",
       "0            Twitter Web App      False  \n",
       "1        Twitter for Android      False  \n",
       "2            Twitter Web App      False  \n",
       "3                    dlvr.it      False  \n",
       "4            Twitter Web App      False  \n",
       "...                      ...        ...  \n",
       "1232804         AngelaAngela      False  \n",
       "1232805      Twitter Web App      False  \n",
       "1232806  Twitter for Android      False  \n",
       "1232807      Twitter Web App      False  \n",
       "1232808         HEXstreamers      False  \n",
       "\n",
       "[1232809 rows x 13 columns]"
      ]
     },
     "execution_count": 5,
     "metadata": {},
     "output_type": "execute_result"
    }
   ],
   "source": [
    "# Load Tweet dataset\n",
    "df0 = pd.read_csv('D:/DATASETS/PROGRAMES_SCRAPPERS/bitmex_historical_scraper/DATA/BTC_Tweets/Bitcoin_tweets.csv')\n",
    "df0"
   ]
  },
  {
   "cell_type": "code",
   "execution_count": 6,
   "id": "b2164035",
   "metadata": {
    "execution": {
     "iopub.execute_input": "2021-10-12T10:31:26.450528Z",
     "iopub.status.busy": "2021-10-12T10:31:26.449658Z",
     "iopub.status.idle": "2021-10-12T10:31:26.486901Z",
     "shell.execute_reply": "2021-10-12T10:31:26.487326Z",
     "shell.execute_reply.started": "2021-10-12T10:27:59.939231Z"
    },
    "papermill": {
     "duration": 0.067463,
     "end_time": "2021-10-12T10:31:26.487464",
     "exception": false,
     "start_time": "2021-10-12T10:31:26.420001",
     "status": "completed"
    },
    "tags": []
   },
   "outputs": [
    {
     "data": {
      "text/html": [
       "<div>\n",
       "<style scoped>\n",
       "    .dataframe tbody tr th:only-of-type {\n",
       "        vertical-align: middle;\n",
       "    }\n",
       "\n",
       "    .dataframe tbody tr th {\n",
       "        vertical-align: top;\n",
       "    }\n",
       "\n",
       "    .dataframe thead th {\n",
       "        text-align: right;\n",
       "    }\n",
       "</style>\n",
       "<table border=\"1\" class=\"dataframe\">\n",
       "  <thead>\n",
       "    <tr style=\"text-align: right;\">\n",
       "      <th></th>\n",
       "      <th>text</th>\n",
       "    </tr>\n",
       "  </thead>\n",
       "  <tbody>\n",
       "    <tr>\n",
       "      <th>0</th>\n",
       "      <td>Blue Ridge Bank shares halted by NYSE after #b...</td>\n",
       "    </tr>\n",
       "    <tr>\n",
       "      <th>1</th>\n",
       "      <td>😎 Today, that's this #Thursday, we will do a \"...</td>\n",
       "    </tr>\n",
       "    <tr>\n",
       "      <th>2</th>\n",
       "      <td>Guys evening, I have read this article about B...</td>\n",
       "    </tr>\n",
       "    <tr>\n",
       "      <th>3</th>\n",
       "      <td>$BTC A big chance in a billion! Price: \\487264...</td>\n",
       "    </tr>\n",
       "    <tr>\n",
       "      <th>4</th>\n",
       "      <td>This network is secured by 9 508 nodes as of t...</td>\n",
       "    </tr>\n",
       "    <tr>\n",
       "      <th>...</th>\n",
       "      <td>...</td>\n",
       "    </tr>\n",
       "    <tr>\n",
       "      <th>19995</th>\n",
       "      <td>⬇️⬇️ $BTC SELLING PRESSURE ALERT 📉 Price tradi...</td>\n",
       "    </tr>\n",
       "    <tr>\n",
       "      <th>19996</th>\n",
       "      <td>@HusseinChindo @kayodebakre8 Wrong! #Bitcoin i...</td>\n",
       "    </tr>\n",
       "    <tr>\n",
       "      <th>19997</th>\n",
       "      <td>LINK IN MY BIO!!! \\nFlex is dropping officiall...</td>\n",
       "    </tr>\n",
       "    <tr>\n",
       "      <th>19998</th>\n",
       "      <td>#Bitcoin #Btc\\n\\nWait and see.... https://t.co...</td>\n",
       "    </tr>\n",
       "    <tr>\n",
       "      <th>19999</th>\n",
       "      <td>Wow! For any of you Rick and Morty fans, check...</td>\n",
       "    </tr>\n",
       "  </tbody>\n",
       "</table>\n",
       "<p>20000 rows × 1 columns</p>\n",
       "</div>"
      ],
      "text/plain": [
       "                                                    text\n",
       "0      Blue Ridge Bank shares halted by NYSE after #b...\n",
       "1      😎 Today, that's this #Thursday, we will do a \"...\n",
       "2      Guys evening, I have read this article about B...\n",
       "3      $BTC A big chance in a billion! Price: \\487264...\n",
       "4      This network is secured by 9 508 nodes as of t...\n",
       "...                                                  ...\n",
       "19995  ⬇️⬇️ $BTC SELLING PRESSURE ALERT 📉 Price tradi...\n",
       "19996  @HusseinChindo @kayodebakre8 Wrong! #Bitcoin i...\n",
       "19997  LINK IN MY BIO!!! \\nFlex is dropping officiall...\n",
       "19998  #Bitcoin #Btc\\n\\nWait and see.... https://t.co...\n",
       "19999  Wow! For any of you Rick and Morty fans, check...\n",
       "\n",
       "[20000 rows x 1 columns]"
      ]
     },
     "execution_count": 6,
     "metadata": {},
     "output_type": "execute_result"
    }
   ],
   "source": [
    "\n",
    "df=df0[['text']][0:20000]\n",
    "df"
   ]
  },
  {
   "cell_type": "code",
   "execution_count": 8,
   "id": "bc7b7799",
   "metadata": {
    "_cell_guid": "13bf9b06-9a96-4e39-b3dd-8c24d848c2c2",
    "_uuid": "b452e7a7-8132-4951-a932-d007b3955870",
    "execution": {
     "iopub.execute_input": "2021-10-12T10:31:26.540092Z",
     "iopub.status.busy": "2021-10-12T10:31:26.539439Z",
     "iopub.status.idle": "2021-10-12T10:31:26.541666Z",
     "shell.execute_reply": "2021-10-12T10:31:26.542051Z",
     "shell.execute_reply.started": "2021-10-12T10:27:59.980066Z"
    },
    "jupyter": {
     "outputs_hidden": false
    },
    "papermill": {
     "duration": 0.030705,
     "end_time": "2021-10-12T10:31:26.542172",
     "exception": false,
     "start_time": "2021-10-12T10:31:26.511467",
     "status": "completed"
    },
    "tags": []
   },
   "outputs": [],
   "source": [
    "def tweet_to_words(tweet):\n",
    "    ''' Convert tweet text into a sequence of words '''\n",
    "    \n",
    "    # convert to lowercase\n",
    "    text = tweet.lower()\n",
    "    # remove non letters\n",
    "    text = re.sub(r\"[^a-zA-Z0-9]\", \" \", text)\n",
    "    # tokenize\n",
    "    words = text.split()\n",
    "    # remove stopwords\n",
    "    words = [w for w in words if w not in stopwords.words(\"english\")]\n",
    "    # apply stemming\n",
    "    words = [PorterStemmer().stem(w) for w in words]\n",
    "    # return list\n",
    "    return words"
   ]
  },
  {
   "cell_type": "code",
   "execution_count": 9,
   "id": "0c3318d0",
   "metadata": {
    "execution": {
     "iopub.execute_input": "2021-10-12T10:31:26.593831Z",
     "iopub.status.busy": "2021-10-12T10:31:26.593309Z",
     "iopub.status.idle": "2021-10-12T10:32:25.513591Z",
     "shell.execute_reply": "2021-10-12T10:32:25.514047Z",
     "shell.execute_reply.started": "2021-10-12T10:27:59.988047Z"
    },
    "papermill": {
     "duration": 58.948704,
     "end_time": "2021-10-12T10:32:25.514208",
     "exception": false,
     "start_time": "2021-10-12T10:31:26.565504",
     "status": "completed"
    },
    "tags": []
   },
   "outputs": [
    {
     "name": "stderr",
     "output_type": "stream",
     "text": [
      "100%|██████████| 20000/20000 [02:20<00:00, 142.06it/s]\n"
     ]
    },
    {
     "data": {
      "text/html": [
       "<div>\n",
       "<style scoped>\n",
       "    .dataframe tbody tr th:only-of-type {\n",
       "        vertical-align: middle;\n",
       "    }\n",
       "\n",
       "    .dataframe tbody tr th {\n",
       "        vertical-align: top;\n",
       "    }\n",
       "\n",
       "    .dataframe thead th {\n",
       "        text-align: right;\n",
       "    }\n",
       "</style>\n",
       "<table border=\"1\" class=\"dataframe\">\n",
       "  <thead>\n",
       "    <tr style=\"text-align: right;\">\n",
       "      <th></th>\n",
       "      <th>text</th>\n",
       "      <th>cleantext</th>\n",
       "    </tr>\n",
       "  </thead>\n",
       "  <tbody>\n",
       "    <tr>\n",
       "      <th>0</th>\n",
       "      <td>Blue Ridge Bank shares halted by NYSE after #b...</td>\n",
       "      <td>[blue, ridg, bank, share, halt, nyse, bitcoin,...</td>\n",
       "    </tr>\n",
       "    <tr>\n",
       "      <th>1</th>\n",
       "      <td>😎 Today, that's this #Thursday, we will do a \"...</td>\n",
       "      <td>[today, thursday, take, 2, friend, leowandersl...</td>\n",
       "    </tr>\n",
       "    <tr>\n",
       "      <th>2</th>\n",
       "      <td>Guys evening, I have read this article about B...</td>\n",
       "      <td>[guy, even, read, articl, btc, would, like, sh...</td>\n",
       "    </tr>\n",
       "    <tr>\n",
       "      <th>3</th>\n",
       "      <td>$BTC A big chance in a billion! Price: \\487264...</td>\n",
       "      <td>[btc, big, chanc, billion, price, 4872644, 0, ...</td>\n",
       "    </tr>\n",
       "    <tr>\n",
       "      <th>4</th>\n",
       "      <td>This network is secured by 9 508 nodes as of t...</td>\n",
       "      <td>[network, secur, 9, 508, node, today, soon, bi...</td>\n",
       "    </tr>\n",
       "    <tr>\n",
       "      <th>...</th>\n",
       "      <td>...</td>\n",
       "      <td>...</td>\n",
       "    </tr>\n",
       "    <tr>\n",
       "      <th>19995</th>\n",
       "      <td>⬇️⬇️ $BTC SELLING PRESSURE ALERT 📉 Price tradi...</td>\n",
       "      <td>[btc, sell, pressur, alert, price, trade, arou...</td>\n",
       "    </tr>\n",
       "    <tr>\n",
       "      <th>19996</th>\n",
       "      <td>@HusseinChindo @kayodebakre8 Wrong! #Bitcoin i...</td>\n",
       "      <td>[husseinchindo, kayodebakre8, wrong, bitcoin, ...</td>\n",
       "    </tr>\n",
       "    <tr>\n",
       "      <th>19997</th>\n",
       "      <td>LINK IN MY BIO!!! \\nFlex is dropping officiall...</td>\n",
       "      <td>[link, bio, flex, drop, offici, tomorrow, feb,...</td>\n",
       "    </tr>\n",
       "    <tr>\n",
       "      <th>19998</th>\n",
       "      <td>#Bitcoin #Btc\\n\\nWait and see.... https://t.co...</td>\n",
       "      <td>[bitcoin, btc, wait, see, http, co, vdaseguhlp]</td>\n",
       "    </tr>\n",
       "    <tr>\n",
       "      <th>19999</th>\n",
       "      <td>Wow! For any of you Rick and Morty fans, check...</td>\n",
       "      <td>[wow, rick, morti, fan, check, newli, launch, ...</td>\n",
       "    </tr>\n",
       "  </tbody>\n",
       "</table>\n",
       "<p>20000 rows × 2 columns</p>\n",
       "</div>"
      ],
      "text/plain": [
       "                                                    text  \\\n",
       "0      Blue Ridge Bank shares halted by NYSE after #b...   \n",
       "1      😎 Today, that's this #Thursday, we will do a \"...   \n",
       "2      Guys evening, I have read this article about B...   \n",
       "3      $BTC A big chance in a billion! Price: \\487264...   \n",
       "4      This network is secured by 9 508 nodes as of t...   \n",
       "...                                                  ...   \n",
       "19995  ⬇️⬇️ $BTC SELLING PRESSURE ALERT 📉 Price tradi...   \n",
       "19996  @HusseinChindo @kayodebakre8 Wrong! #Bitcoin i...   \n",
       "19997  LINK IN MY BIO!!! \\nFlex is dropping officiall...   \n",
       "19998  #Bitcoin #Btc\\n\\nWait and see.... https://t.co...   \n",
       "19999  Wow! For any of you Rick and Morty fans, check...   \n",
       "\n",
       "                                               cleantext  \n",
       "0      [blue, ridg, bank, share, halt, nyse, bitcoin,...  \n",
       "1      [today, thursday, take, 2, friend, leowandersl...  \n",
       "2      [guy, even, read, articl, btc, would, like, sh...  \n",
       "3      [btc, big, chanc, billion, price, 4872644, 0, ...  \n",
       "4      [network, secur, 9, 508, node, today, soon, bi...  \n",
       "...                                                  ...  \n",
       "19995  [btc, sell, pressur, alert, price, trade, arou...  \n",
       "19996  [husseinchindo, kayodebakre8, wrong, bitcoin, ...  \n",
       "19997  [link, bio, flex, drop, offici, tomorrow, feb,...  \n",
       "19998    [bitcoin, btc, wait, see, http, co, vdaseguhlp]  \n",
       "19999  [wow, rick, morti, fan, check, newli, launch, ...  \n",
       "\n",
       "[20000 rows x 2 columns]"
      ]
     },
     "execution_count": 9,
     "metadata": {},
     "output_type": "execute_result"
    }
   ],
   "source": [
    "cleantext=[]\n",
    "for item in tqdm(df['text']):\n",
    "    words=tweet_to_words(item)\n",
    "    cleantext+=[words]\n",
    "df['cleantext']=cleantext\n",
    "df"
   ]
  },
  {
   "cell_type": "code",
   "execution_count": 6,
   "id": "c7ff0193",
   "metadata": {
    "_cell_guid": "fdd4e291-fc5e-436a-bae3-fdde3fad279f",
    "_uuid": "792352af-397b-42b1-bd22-97a83548c929",
    "execution": {
     "iopub.execute_input": "2021-10-12T10:32:26.022076Z",
     "iopub.status.busy": "2021-10-12T10:32:26.020313Z",
     "iopub.status.idle": "2021-10-12T10:32:26.022710Z",
     "shell.execute_reply": "2021-10-12T10:32:26.023453Z",
     "shell.execute_reply.started": "2021-10-12T10:28:59.623493Z"
    },
    "jupyter": {
     "outputs_hidden": false
    },
    "papermill": {
     "duration": 0.327204,
     "end_time": "2021-10-12T10:32:26.023656",
     "exception": false,
     "start_time": "2021-10-12T10:32:25.696452",
     "status": "completed"
    },
    "tags": []
   },
   "outputs": [],
   "source": [
    "# Apply data processing to each tweet\n",
    "# X = list(map(tweet_to_words, df['content']))\n",
    "# print(X==cleantext) #True"
   ]
  },
  {
   "cell_type": "code",
   "execution_count": 10,
   "id": "0fb1ed3b",
   "metadata": {
    "execution": {
     "iopub.execute_input": "2021-10-12T10:32:26.460553Z",
     "iopub.status.busy": "2021-10-12T10:32:26.459662Z",
     "iopub.status.idle": "2021-10-12T10:32:26.461462Z",
     "shell.execute_reply": "2021-10-12T10:32:26.461871Z",
     "shell.execute_reply.started": "2021-10-12T10:28:59.629092Z"
    },
    "papermill": {
     "duration": 0.174677,
     "end_time": "2021-10-12T10:32:26.462003",
     "exception": false,
     "start_time": "2021-10-12T10:32:26.287326",
     "status": "completed"
    },
    "tags": []
   },
   "outputs": [],
   "source": [
    "def unlist(list):\n",
    "    words=''\n",
    "    for item in list:\n",
    "        words+=item+' '\n",
    "    return words"
   ]
  },
  {
   "cell_type": "code",
   "execution_count": 11,
   "id": "1bc03e09",
   "metadata": {
    "execution": {
     "iopub.execute_input": "2021-10-12T10:32:26.822174Z",
     "iopub.status.busy": "2021-10-12T10:32:26.821377Z",
     "iopub.status.idle": "2021-10-12T10:32:26.823891Z",
     "shell.execute_reply": "2021-10-12T10:32:26.823454Z",
     "shell.execute_reply.started": "2021-10-12T10:28:59.640085Z"
    },
    "papermill": {
     "duration": 0.198185,
     "end_time": "2021-10-12T10:32:26.823999",
     "exception": false,
     "start_time": "2021-10-12T10:32:26.625814",
     "status": "completed"
    },
    "tags": []
   },
   "outputs": [],
   "source": [
    "def compute_vader_scores(df, label):\n",
    "    sid = SentimentIntensityAnalyzer()\n",
    "    df[\"vader_neg\"] = df[label].apply(lambda x: sid.polarity_scores(unlist(x))[\"neg\"])\n",
    "    df[\"vader_neu\"] = df[label].apply(lambda x: sid.polarity_scores(unlist(x))[\"neu\"])\n",
    "    df[\"vader_pos\"] = df[label].apply(lambda x: sid.polarity_scores(unlist(x))[\"pos\"])\n",
    "    df[\"vader_comp\"] = df[label].apply(lambda x: sid.polarity_scores(unlist(x))[\"compound\"])\n",
    "    df['cleantext2'] = df[label].apply(lambda x: unlist(x))\n",
    "    return df"
   ]
  },
  {
   "cell_type": "code",
   "execution_count": 13,
   "id": "f096706d",
   "metadata": {},
   "outputs": [
    {
     "name": "stderr",
     "output_type": "stream",
     "text": [
      "[nltk_data] Downloading package vader_lexicon to\n",
      "[nltk_data]     C:\\Users\\admin\\AppData\\Roaming\\nltk_data...\n"
     ]
    },
    {
     "data": {
      "text/plain": [
       "True"
      ]
     },
     "execution_count": 13,
     "metadata": {},
     "output_type": "execute_result"
    }
   ],
   "source": [
    "nltk.download('vader_lexicon')"
   ]
  },
  {
   "cell_type": "code",
   "execution_count": 14,
   "id": "132f28b9",
   "metadata": {
    "execution": {
     "iopub.execute_input": "2021-10-12T10:32:27.165972Z",
     "iopub.status.busy": "2021-10-12T10:32:27.165273Z",
     "iopub.status.idle": "2021-10-12T10:32:42.757584Z",
     "shell.execute_reply": "2021-10-12T10:32:42.756723Z",
     "shell.execute_reply.started": "2021-10-12T10:28:59.649596Z"
    },
    "papermill": {
     "duration": 15.764326,
     "end_time": "2021-10-12T10:32:42.757717",
     "exception": false,
     "start_time": "2021-10-12T10:32:26.993391",
     "status": "completed"
    },
    "tags": []
   },
   "outputs": [
    {
     "data": {
      "text/html": [
       "<div>\n",
       "<style scoped>\n",
       "    .dataframe tbody tr th:only-of-type {\n",
       "        vertical-align: middle;\n",
       "    }\n",
       "\n",
       "    .dataframe tbody tr th {\n",
       "        vertical-align: top;\n",
       "    }\n",
       "\n",
       "    .dataframe thead th {\n",
       "        text-align: right;\n",
       "    }\n",
       "</style>\n",
       "<table border=\"1\" class=\"dataframe\">\n",
       "  <thead>\n",
       "    <tr style=\"text-align: right;\">\n",
       "      <th></th>\n",
       "      <th>text</th>\n",
       "      <th>cleantext</th>\n",
       "      <th>vader_neg</th>\n",
       "      <th>vader_neu</th>\n",
       "      <th>vader_pos</th>\n",
       "      <th>vader_comp</th>\n",
       "      <th>cleantext2</th>\n",
       "    </tr>\n",
       "  </thead>\n",
       "  <tbody>\n",
       "    <tr>\n",
       "      <th>0</th>\n",
       "      <td>Blue Ridge Bank shares halted by NYSE after #b...</td>\n",
       "      <td>[blue, ridg, bank, share, halt, nyse, bitcoin,...</td>\n",
       "      <td>0.000</td>\n",
       "      <td>0.872</td>\n",
       "      <td>0.128</td>\n",
       "      <td>0.2960</td>\n",
       "      <td>blue ridg bank share halt nyse bitcoin atm ann...</td>\n",
       "    </tr>\n",
       "    <tr>\n",
       "      <th>1</th>\n",
       "      <td>😎 Today, that's this #Thursday, we will do a \"...</td>\n",
       "      <td>[today, thursday, take, 2, friend, leowandersl...</td>\n",
       "      <td>0.000</td>\n",
       "      <td>0.775</td>\n",
       "      <td>0.225</td>\n",
       "      <td>0.4939</td>\n",
       "      <td>today thursday take 2 friend leowandersleb btc...</td>\n",
       "    </tr>\n",
       "    <tr>\n",
       "      <th>2</th>\n",
       "      <td>Guys evening, I have read this article about B...</td>\n",
       "      <td>[guy, even, read, articl, btc, would, like, sh...</td>\n",
       "      <td>0.000</td>\n",
       "      <td>0.719</td>\n",
       "      <td>0.281</td>\n",
       "      <td>0.5719</td>\n",
       "      <td>guy even read articl btc would like share http...</td>\n",
       "    </tr>\n",
       "    <tr>\n",
       "      <th>3</th>\n",
       "      <td>$BTC A big chance in a billion! Price: \\487264...</td>\n",
       "      <td>[btc, big, chanc, billion, price, 4872644, 0, ...</td>\n",
       "      <td>0.000</td>\n",
       "      <td>1.000</td>\n",
       "      <td>0.000</td>\n",
       "      <td>0.0000</td>\n",
       "      <td>btc big chanc billion price 4872644 0 2021 02 ...</td>\n",
       "    </tr>\n",
       "    <tr>\n",
       "      <th>4</th>\n",
       "      <td>This network is secured by 9 508 nodes as of t...</td>\n",
       "      <td>[network, secur, 9, 508, node, today, soon, bi...</td>\n",
       "      <td>0.200</td>\n",
       "      <td>0.800</td>\n",
       "      <td>0.000</td>\n",
       "      <td>-0.5423</td>\n",
       "      <td>network secur 9 508 node today soon biggest be...</td>\n",
       "    </tr>\n",
       "    <tr>\n",
       "      <th>...</th>\n",
       "      <td>...</td>\n",
       "      <td>...</td>\n",
       "      <td>...</td>\n",
       "      <td>...</td>\n",
       "      <td>...</td>\n",
       "      <td>...</td>\n",
       "      <td>...</td>\n",
       "    </tr>\n",
       "    <tr>\n",
       "      <th>19995</th>\n",
       "      <td>⬇️⬇️ $BTC SELLING PRESSURE ALERT 📉 Price tradi...</td>\n",
       "      <td>[btc, sell, pressur, alert, price, trade, arou...</td>\n",
       "      <td>0.000</td>\n",
       "      <td>0.855</td>\n",
       "      <td>0.145</td>\n",
       "      <td>0.2960</td>\n",
       "      <td>btc sell pressur alert price trade around 3782...</td>\n",
       "    </tr>\n",
       "    <tr>\n",
       "      <th>19996</th>\n",
       "      <td>@HusseinChindo @kayodebakre8 Wrong! #Bitcoin i...</td>\n",
       "      <td>[husseinchindo, kayodebakre8, wrong, bitcoin, ...</td>\n",
       "      <td>0.165</td>\n",
       "      <td>0.638</td>\n",
       "      <td>0.197</td>\n",
       "      <td>-0.1027</td>\n",
       "      <td>husseinchindo kayodebakre8 wrong bitcoin legal...</td>\n",
       "    </tr>\n",
       "    <tr>\n",
       "      <th>19997</th>\n",
       "      <td>LINK IN MY BIO!!! \\nFlex is dropping officiall...</td>\n",
       "      <td>[link, bio, flex, drop, offici, tomorrow, feb,...</td>\n",
       "      <td>0.130</td>\n",
       "      <td>0.870</td>\n",
       "      <td>0.000</td>\n",
       "      <td>-0.2732</td>\n",
       "      <td>link bio flex drop offici tomorrow feb 06 2021...</td>\n",
       "    </tr>\n",
       "    <tr>\n",
       "      <th>19998</th>\n",
       "      <td>#Bitcoin #Btc\\n\\nWait and see.... https://t.co...</td>\n",
       "      <td>[bitcoin, btc, wait, see, http, co, vdaseguhlp]</td>\n",
       "      <td>0.000</td>\n",
       "      <td>1.000</td>\n",
       "      <td>0.000</td>\n",
       "      <td>0.0000</td>\n",
       "      <td>bitcoin btc wait see http co vdaseguhlp</td>\n",
       "    </tr>\n",
       "    <tr>\n",
       "      <th>19999</th>\n",
       "      <td>Wow! For any of you Rick and Morty fans, check...</td>\n",
       "      <td>[wow, rick, morti, fan, check, newli, launch, ...</td>\n",
       "      <td>0.000</td>\n",
       "      <td>0.681</td>\n",
       "      <td>0.319</td>\n",
       "      <td>0.7269</td>\n",
       "      <td>wow rick morti fan check newli launch secur so...</td>\n",
       "    </tr>\n",
       "  </tbody>\n",
       "</table>\n",
       "<p>20000 rows × 7 columns</p>\n",
       "</div>"
      ],
      "text/plain": [
       "                                                    text  \\\n",
       "0      Blue Ridge Bank shares halted by NYSE after #b...   \n",
       "1      😎 Today, that's this #Thursday, we will do a \"...   \n",
       "2      Guys evening, I have read this article about B...   \n",
       "3      $BTC A big chance in a billion! Price: \\487264...   \n",
       "4      This network is secured by 9 508 nodes as of t...   \n",
       "...                                                  ...   \n",
       "19995  ⬇️⬇️ $BTC SELLING PRESSURE ALERT 📉 Price tradi...   \n",
       "19996  @HusseinChindo @kayodebakre8 Wrong! #Bitcoin i...   \n",
       "19997  LINK IN MY BIO!!! \\nFlex is dropping officiall...   \n",
       "19998  #Bitcoin #Btc\\n\\nWait and see.... https://t.co...   \n",
       "19999  Wow! For any of you Rick and Morty fans, check...   \n",
       "\n",
       "                                               cleantext  vader_neg  \\\n",
       "0      [blue, ridg, bank, share, halt, nyse, bitcoin,...      0.000   \n",
       "1      [today, thursday, take, 2, friend, leowandersl...      0.000   \n",
       "2      [guy, even, read, articl, btc, would, like, sh...      0.000   \n",
       "3      [btc, big, chanc, billion, price, 4872644, 0, ...      0.000   \n",
       "4      [network, secur, 9, 508, node, today, soon, bi...      0.200   \n",
       "...                                                  ...        ...   \n",
       "19995  [btc, sell, pressur, alert, price, trade, arou...      0.000   \n",
       "19996  [husseinchindo, kayodebakre8, wrong, bitcoin, ...      0.165   \n",
       "19997  [link, bio, flex, drop, offici, tomorrow, feb,...      0.130   \n",
       "19998    [bitcoin, btc, wait, see, http, co, vdaseguhlp]      0.000   \n",
       "19999  [wow, rick, morti, fan, check, newli, launch, ...      0.000   \n",
       "\n",
       "       vader_neu  vader_pos  vader_comp  \\\n",
       "0          0.872      0.128      0.2960   \n",
       "1          0.775      0.225      0.4939   \n",
       "2          0.719      0.281      0.5719   \n",
       "3          1.000      0.000      0.0000   \n",
       "4          0.800      0.000     -0.5423   \n",
       "...          ...        ...         ...   \n",
       "19995      0.855      0.145      0.2960   \n",
       "19996      0.638      0.197     -0.1027   \n",
       "19997      0.870      0.000     -0.2732   \n",
       "19998      1.000      0.000      0.0000   \n",
       "19999      0.681      0.319      0.7269   \n",
       "\n",
       "                                              cleantext2  \n",
       "0      blue ridg bank share halt nyse bitcoin atm ann...  \n",
       "1      today thursday take 2 friend leowandersleb btc...  \n",
       "2      guy even read articl btc would like share http...  \n",
       "3      btc big chanc billion price 4872644 0 2021 02 ...  \n",
       "4      network secur 9 508 node today soon biggest be...  \n",
       "...                                                  ...  \n",
       "19995  btc sell pressur alert price trade around 3782...  \n",
       "19996  husseinchindo kayodebakre8 wrong bitcoin legal...  \n",
       "19997  link bio flex drop offici tomorrow feb 06 2021...  \n",
       "19998           bitcoin btc wait see http co vdaseguhlp   \n",
       "19999  wow rick morti fan check newli launch secur so...  \n",
       "\n",
       "[20000 rows x 7 columns]"
      ]
     },
     "execution_count": 14,
     "metadata": {},
     "output_type": "execute_result"
    }
   ],
   "source": [
    "df2 = compute_vader_scores(df,'cleantext')\n",
    "df2"
   ]
  },
  {
   "cell_type": "code",
   "execution_count": 15,
   "id": "4a42f3e6",
   "metadata": {
    "execution": {
     "iopub.execute_input": "2021-10-12T10:32:43.132778Z",
     "iopub.status.busy": "2021-10-12T10:32:43.132054Z",
     "iopub.status.idle": "2021-10-12T10:33:02.975187Z",
     "shell.execute_reply": "2021-10-12T10:33:02.974421Z",
     "shell.execute_reply.started": "2021-10-12T10:29:15.674609Z"
    },
    "papermill": {
     "duration": 20.03253,
     "end_time": "2021-10-12T10:33:02.975437",
     "exception": false,
     "start_time": "2021-10-12T10:32:42.942907",
     "status": "completed"
    },
    "tags": []
   },
   "outputs": [
    {
     "data": {
      "text/plain": [
       "<seaborn.axisgrid.JointGrid at 0x2278f5d7dd8>"
      ]
     },
     "execution_count": 15,
     "metadata": {},
     "output_type": "execute_result"
    },
    {
     "data": {
      "image/png": "[encoded data removed]",
      "text/plain": [
       "<Figure size 432x432 with 3 Axes>"
      ]
     },
     "metadata": {
      "needs_background": "light"
     },
     "output_type": "display_data"
    }
   ],
   "source": [
    "sns.jointplot(data=df2, x='vader_pos', y='vader_neg', kind=\"kde\")"
   ]
  },
  {
   "cell_type": "code",
   "execution_count": 11,
   "id": "6733278a",
   "metadata": {
    "execution": {
     "iopub.execute_input": "2021-10-12T10:33:03.330579Z",
     "iopub.status.busy": "2021-10-12T10:33:03.329733Z",
     "iopub.status.idle": "2021-10-12T10:33:22.740391Z",
     "shell.execute_reply": "2021-10-12T10:33:22.740846Z",
     "shell.execute_reply.started": "2021-10-12T10:29:34.787030Z"
    },
    "papermill": {
     "duration": 19.594425,
     "end_time": "2021-10-12T10:33:22.741028",
     "exception": false,
     "start_time": "2021-10-12T10:33:03.146603",
     "status": "completed"
    },
    "tags": []
   },
   "outputs": [
    {
     "data": {
      "text/plain": [
       "<seaborn.axisgrid.JointGrid at 0x7f4e0188aa10>"
      ]
     },
     "execution_count": 11,
     "metadata": {},
     "output_type": "execute_result"
    },
    {
     "data": {
      "image/png": "[encoded data removed]",
      "text/plain": [
       "<Figure size 432x432 with 3 Axes>"
      ]
     },
     "metadata": {
      "needs_background": "light"
     },
     "output_type": "display_data"
    }
   ],
   "source": [
    "sns.jointplot(data=df2, x='vader_pos', y='vader_neu', kind=\"kde\")"
   ]
  },
  {
   "cell_type": "code",
   "execution_count": 16,
   "id": "8c55fc3b",
   "metadata": {
    "execution": {
     "iopub.execute_input": "2021-10-12T10:33:23.084298Z",
     "iopub.status.busy": "2021-10-12T10:33:23.083507Z",
     "iopub.status.idle": "2021-10-12T10:33:23.527608Z",
     "shell.execute_reply": "2021-10-12T10:33:23.527154Z",
     "shell.execute_reply.started": "2021-10-12T10:29:54.463767Z"
    },
    "papermill": {
     "duration": 0.617621,
     "end_time": "2021-10-12T10:33:23.527732",
     "exception": false,
     "start_time": "2021-10-12T10:33:22.910111",
     "status": "completed"
    },
    "tags": []
   },
   "outputs": [],
   "source": [
    "class0=[]\n",
    "for i in range(len(df2)):\n",
    "    if df2.loc[i,'vader_neg']>0:\n",
    "        class0+=[0]\n",
    "    elif df2.loc[i,'vader_pos']>0:\n",
    "        class0+=[2]        \n",
    "    else:\n",
    "        class0+=[1]     "
   ]
  },
  {
   "cell_type": "code",
   "execution_count": 17,
   "id": "2c97dcc4",
   "metadata": {
    "execution": {
     "iopub.execute_input": "2021-10-12T10:33:23.886689Z",
     "iopub.status.busy": "2021-10-12T10:33:23.885880Z",
     "iopub.status.idle": "2021-10-12T10:33:23.892275Z",
     "shell.execute_reply": "2021-10-12T10:33:23.891817Z",
     "shell.execute_reply.started": "2021-10-12T10:29:54.913326Z"
    },
    "papermill": {
     "duration": 0.189248,
     "end_time": "2021-10-12T10:33:23.892402",
     "exception": false,
     "start_time": "2021-10-12T10:33:23.703154",
     "status": "completed"
    },
    "tags": []
   },
   "outputs": [
    {
     "data": {
      "text/plain": [
       "1    11246\n",
       "2     6079\n",
       "0     2675\n",
       "Name: class, dtype: int64"
      ]
     },
     "execution_count": 17,
     "metadata": {},
     "output_type": "execute_result"
    }
   ],
   "source": [
    "df['class']=class0\n",
    "df['class'].value_counts()"
   ]
  },
  {
   "cell_type": "markdown",
   "id": "fa7576de",
   "metadata": {
    "papermill": {
     "duration": 0.168359,
     "end_time": "2021-10-12T10:33:24.230484",
     "exception": false,
     "start_time": "2021-10-12T10:33:24.062125",
     "status": "completed"
    },
    "tags": []
   },
   "source": [
    "# def tokenize_pad_sequences(text):"
   ]
  },
  {
   "cell_type": "code",
   "execution_count": 18,
   "id": "1dc658a6",
   "metadata": {
    "execution": {
     "iopub.execute_input": "2021-10-12T10:33:24.597221Z",
     "iopub.status.busy": "2021-10-12T10:33:24.586643Z",
     "iopub.status.idle": "2021-10-12T10:33:25.443257Z",
     "shell.execute_reply": "2021-10-12T10:33:25.442834Z",
     "shell.execute_reply.started": "2021-10-12T10:29:54.932588Z"
    },
    "papermill": {
     "duration": 1.043779,
     "end_time": "2021-10-12T10:33:25.443397",
     "exception": false,
     "start_time": "2021-10-12T10:33:24.399618",
     "status": "completed"
    },
    "tags": []
   },
   "outputs": [
    {
     "name": "stdout",
     "output_type": "stream",
     "text": [
      "Before Tokenization & Padding \n",
      " blue ridg bank share halt nyse bitcoin atm announc http co xaazmajkiv myblueridgebank http co sgbxmkp1si \n",
      "After Tokenization & Padding \n",
      " [1399 1804  254  406 3652 2760    3 1149  259    2    1    2    1    0\n",
      "    0    0    0    0    0    0    0    0    0    0    0    0    0    0\n",
      "    0    0    0    0    0    0    0    0    0    0    0    0    0    0\n",
      "    0    0    0    0    0    0    0    0]\n"
     ]
    }
   ],
   "source": [
    "from tensorflow.keras.preprocessing.text import Tokenizer\n",
    "from tensorflow.keras.preprocessing.sequence import pad_sequences\n",
    "\n",
    "max_words = 5000\n",
    "max_len=50\n",
    "\n",
    "def tokenize_pad_sequences(text):\n",
    "    '''\n",
    "    This function tokenize the input text into sequnences of intergers and then\n",
    "    pad each sequence to the same length\n",
    "    '''\n",
    "    # Text tokenization\n",
    "    tokenizer = Tokenizer(num_words=max_words, lower=True, split=' ')\n",
    "    tokenizer.fit_on_texts(text)\n",
    "    # Transforms text to a sequence of integers\n",
    "    X = tokenizer.texts_to_sequences(text)\n",
    "    # Pad sequences to the same length\n",
    "    X = pad_sequences(X, padding='post', maxlen=max_len)\n",
    "    # return sequences\n",
    "    return X, tokenizer\n",
    "\n",
    "print('Before Tokenization & Padding \\n', df['cleantext2'][0])\n",
    "X, tokenizer = tokenize_pad_sequences(df['cleantext2'])\n",
    "print('After Tokenization & Padding \\n', X[0])"
   ]
  },
  {
   "cell_type": "code",
   "execution_count": 19,
   "id": "5ef673b7",
   "metadata": {
    "execution": {
     "iopub.execute_input": "2021-10-12T10:33:25.793052Z",
     "iopub.status.busy": "2021-10-12T10:33:25.791421Z",
     "iopub.status.idle": "2021-10-12T10:33:25.795058Z",
     "shell.execute_reply": "2021-10-12T10:33:25.794589Z",
     "shell.execute_reply.started": "2021-10-12T10:29:55.782605Z"
    },
    "papermill": {
     "duration": 0.180832,
     "end_time": "2021-10-12T10:33:25.795167",
     "exception": false,
     "start_time": "2021-10-12T10:33:25.614335",
     "status": "completed"
    },
    "tags": []
   },
   "outputs": [
    {
     "name": "stdout",
     "output_type": "stream",
     "text": [
      "(20000, 50)\n"
     ]
    }
   ],
   "source": [
    "print(X.shape)"
   ]
  },
  {
   "cell_type": "code",
   "execution_count": 20,
   "id": "87118342",
   "metadata": {
    "execution": {
     "iopub.execute_input": "2021-10-12T10:33:26.154137Z",
     "iopub.status.busy": "2021-10-12T10:33:26.153361Z",
     "iopub.status.idle": "2021-10-12T10:33:26.166836Z",
     "shell.execute_reply": "2021-10-12T10:33:26.166406Z",
     "shell.execute_reply.started": "2021-10-12T10:29:55.788338Z"
    },
    "papermill": {
     "duration": 0.192909,
     "end_time": "2021-10-12T10:33:26.166951",
     "exception": false,
     "start_time": "2021-10-12T10:33:25.974042",
     "status": "completed"
    },
    "tags": []
   },
   "outputs": [
    {
     "name": "stdout",
     "output_type": "stream",
     "text": [
      "Train Set:  (12000, 50) (12000, 3)\n",
      "Validation Set:  (4000, 50) (4000, 3)\n",
      "Test Set:  (4000, 50) (4000, 3)\n"
     ]
    }
   ],
   "source": [
    "y = pd.get_dummies(df['class'])\n",
    "X_train, X_test, y_train, y_test = train_test_split(X, y, test_size=0.2, random_state=1)\n",
    "X_train, X_val, y_train, y_val = train_test_split(X_train, y_train, test_size=0.25, random_state=1)\n",
    "print('Train Set: ', X_train.shape, y_train.shape)\n",
    "print('Validation Set: ', X_val.shape, y_val.shape)\n",
    "print('Test Set: ', X_test.shape, y_test.shape)"
   ]
  },
  {
   "cell_type": "code",
   "execution_count": 21,
   "id": "a3c60fc3",
   "metadata": {
    "execution": {
     "iopub.execute_input": "2021-10-12T10:33:26.519122Z",
     "iopub.status.busy": "2021-10-12T10:33:26.518327Z",
     "iopub.status.idle": "2021-10-12T10:33:26.521294Z",
     "shell.execute_reply": "2021-10-12T10:33:26.520872Z",
     "shell.execute_reply.started": "2021-10-12T10:29:55.812120Z"
    },
    "papermill": {
     "duration": 0.17902,
     "end_time": "2021-10-12T10:33:26.521407",
     "exception": false,
     "start_time": "2021-10-12T10:33:26.342387",
     "status": "completed"
    },
    "tags": []
   },
   "outputs": [],
   "source": [
    "import tensorflow.keras.backend as K\n",
    "\n",
    "def f1_score(precision, recall):\n",
    "    ''' Function to calculate f1 score '''\n",
    "    \n",
    "    f1_val = 2*(precision*recall)/(precision+recall+K.epsilon())\n",
    "    return f1_val"
   ]
  },
  {
   "cell_type": "code",
   "execution_count": 22,
   "id": "46767d3d",
   "metadata": {
    "execution": {
     "iopub.execute_input": "2021-10-12T10:33:26.886897Z",
     "iopub.status.busy": "2021-10-12T10:33:26.886074Z",
     "iopub.status.idle": "2021-10-12T10:33:26.887890Z",
     "shell.execute_reply": "2021-10-12T10:33:26.888288Z",
     "shell.execute_reply.started": "2021-10-12T10:29:55.821628Z"
    },
    "papermill": {
     "duration": 0.187937,
     "end_time": "2021-10-12T10:33:26.888418",
     "exception": false,
     "start_time": "2021-10-12T10:33:26.700481",
     "status": "completed"
    },
    "tags": []
   },
   "outputs": [],
   "source": [
    "from tensorflow.keras.models import Sequential\n",
    "from tensorflow.keras.layers import Embedding, Conv1D, MaxPooling1D, Bidirectional, LSTM, Dense, Dropout\n",
    "from tensorflow.keras.metrics import Precision, Recall\n",
    "from tensorflow.keras.optimizers import SGD\n",
    "from tensorflow.keras.optimizers import RMSprop\n",
    "from tensorflow.keras import datasets\n",
    "from tensorflow.keras.callbacks import LearningRateScheduler\n",
    "from tensorflow.keras.callbacks import History\n",
    "from tensorflow.keras import losses"
   ]
  },
  {
   "cell_type": "code",
   "execution_count": 23,
   "id": "536e0592",
   "metadata": {
    "execution": {
     "iopub.execute_input": "2021-10-12T10:33:27.234619Z",
     "iopub.status.busy": "2021-10-12T10:33:27.233062Z",
     "iopub.status.idle": "2021-10-12T10:33:27.235307Z",
     "shell.execute_reply": "2021-10-12T10:33:27.235690Z",
     "shell.execute_reply.started": "2021-10-12T10:29:55.830576Z"
    },
    "papermill": {
     "duration": 0.175325,
     "end_time": "2021-10-12T10:33:27.235838",
     "exception": false,
     "start_time": "2021-10-12T10:33:27.060513",
     "status": "completed"
    },
    "tags": []
   },
   "outputs": [],
   "source": [
    "vocab_size = 5000\n",
    "embedding_size = 32\n",
    "epochs = 10\n",
    "learning_rate = 0.1\n",
    "decay_rate = learning_rate / epochs\n",
    "momentum = 0.8"
   ]
  },
  {
   "cell_type": "markdown",
   "id": "3052d115",
   "metadata": {
    "papermill": {
     "duration": 0.169104,
     "end_time": "2021-10-12T10:33:27.574029",
     "exception": false,
     "start_time": "2021-10-12T10:33:27.404925",
     "status": "completed"
    },
    "tags": []
   },
   "source": [
    "# Model"
   ]
  },
  {
   "cell_type": "code",
   "execution_count": 24,
   "id": "b5666c23",
   "metadata": {
    "execution": {
     "iopub.execute_input": "2021-10-12T10:33:27.920368Z",
     "iopub.status.busy": "2021-10-12T10:33:27.919575Z",
     "iopub.status.idle": "2021-10-12T10:33:30.458769Z",
     "shell.execute_reply": "2021-10-12T10:33:30.458278Z",
     "shell.execute_reply.started": "2021-10-12T10:29:55.838979Z"
    },
    "papermill": {
     "duration": 2.714753,
     "end_time": "2021-10-12T10:33:30.458903",
     "exception": false,
     "start_time": "2021-10-12T10:33:27.744150",
     "status": "completed"
    },
    "tags": []
   },
   "outputs": [
    {
     "name": "stderr",
     "output_type": "stream",
     "text": [
      "C:\\Users\\admin\\anaconda3\\envs\\PennyLane_Python36\\lib\\site-packages\\keras\\optimizer_v2\\optimizer_v2.py:356: UserWarning:\n",
      "\n",
      "The `lr` argument is deprecated, use `learning_rate` instead.\n",
      "\n"
     ]
    }
   ],
   "source": [
    "sgd = SGD(lr=learning_rate, momentum=momentum, decay=decay_rate, nesterov=False)\n",
    "# Build model\n",
    "model= Sequential()\n",
    "model.add(Embedding(vocab_size, embedding_size, input_length=max_len))\n",
    "model.add(Conv1D(filters=32, kernel_size=1, padding='same', activation='relu'))\n",
    "model.add(MaxPooling1D(pool_size=2))\n",
    "model.add(Bidirectional(LSTM(32)))\n",
    "model.add(Dropout(0.4))\n",
    "model.add(Dense(3, activation='softmax'))"
   ]
  },
  {
   "cell_type": "code",
   "execution_count": 25,
   "id": "8def1eb5",
   "metadata": {
    "execution": {
     "iopub.execute_input": "2021-10-12T10:33:30.838697Z",
     "iopub.status.busy": "2021-10-12T10:33:30.837756Z",
     "iopub.status.idle": "2021-10-12T10:33:31.732501Z",
     "shell.execute_reply": "2021-10-12T10:33:31.733248Z",
     "shell.execute_reply.started": "2021-10-12T10:29:56.310954Z"
    },
    "papermill": {
     "duration": 1.091408,
     "end_time": "2021-10-12T10:33:31.733492",
     "exception": false,
     "start_time": "2021-10-12T10:33:30.642084",
     "status": "completed"
    },
    "tags": []
   },
   "outputs": [
    {
     "name": "stdout",
     "output_type": "stream",
     "text": [
      "('You must install pydot (`pip install pydot`) and install graphviz (see instructions at https://graphviz.gitlab.io/download/) ', 'for plot_model/model_to_dot to work.')\n"
     ]
    }
   ],
   "source": [
    "import tensorflow as tf\n",
    "tf.keras.utils.plot_model(model, show_shapes=True)"
   ]
  },
  {
   "cell_type": "code",
   "execution_count": 26,
   "id": "53805eff",
   "metadata": {
    "execution": {
     "iopub.execute_input": "2021-10-12T10:33:32.320627Z",
     "iopub.status.busy": "2021-10-12T10:33:32.319851Z",
     "iopub.status.idle": "2021-10-12T10:33:32.337481Z",
     "shell.execute_reply": "2021-10-12T10:33:32.337086Z",
     "shell.execute_reply.started": "2021-10-12T10:29:56.668764Z"
    },
    "papermill": {
     "duration": 0.264483,
     "end_time": "2021-10-12T10:33:32.337589",
     "exception": false,
     "start_time": "2021-10-12T10:33:32.073106",
     "status": "completed"
    },
    "tags": []
   },
   "outputs": [],
   "source": [
    "model.compile(loss='categorical_crossentropy', optimizer=sgd, metrics=['accuracy', Precision(), Recall()])"
   ]
  },
  {
   "cell_type": "code",
   "execution_count": 27,
   "id": "755c65d1",
   "metadata": {
    "execution": {
     "iopub.execute_input": "2021-10-12T10:33:32.686217Z",
     "iopub.status.busy": "2021-10-12T10:33:32.685576Z",
     "iopub.status.idle": "2021-10-12T10:34:03.083664Z",
     "shell.execute_reply": "2021-10-12T10:34:03.084166Z",
     "shell.execute_reply.started": "2021-10-12T10:29:56.693143Z"
    },
    "papermill": {
     "duration": 30.576352,
     "end_time": "2021-10-12T10:34:03.084317",
     "exception": false,
     "start_time": "2021-10-12T10:33:32.507965",
     "status": "completed"
    },
    "tags": []
   },
   "outputs": [
    {
     "name": "stdout",
     "output_type": "stream",
     "text": [
      "Epoch 1/10\n",
      "188/188 [==============================] - 6s 18ms/step - loss: 0.9576 - accuracy: 0.5640 - precision: 0.5666 - recall: 0.5243 - val_loss: 0.9519 - val_accuracy: 0.5663 - val_precision: 0.5663 - val_recall: 0.5663\n",
      "Epoch 2/10\n",
      "188/188 [==============================] - 3s 14ms/step - loss: 0.9462 - accuracy: 0.5648 - precision: 0.5657 - recall: 0.5638 - val_loss: 0.9417 - val_accuracy: 0.5663 - val_precision: 0.5663 - val_recall: 0.5663\n",
      "Epoch 3/10\n",
      "188/188 [==============================] - 3s 14ms/step - loss: 0.9307 - accuracy: 0.5648 - precision: 0.5714 - recall: 0.5601 - val_loss: 0.9240 - val_accuracy: 0.5663 - val_precision: 0.5663 - val_recall: 0.5663\n",
      "Epoch 4/10\n",
      "188/188 [==============================] - 3s 14ms/step - loss: 0.8983 - accuracy: 0.5763 - precision: 0.6219 - recall: 0.5132 - val_loss: 0.8761 - val_accuracy: 0.5960 - val_precision: 0.6657 - val_recall: 0.4815\n",
      "Epoch 5/10\n",
      "188/188 [==============================] - 3s 14ms/step - loss: 0.8434 - accuracy: 0.6294 - precision: 0.7005 - recall: 0.5064 - val_loss: 0.8189 - val_accuracy: 0.6413 - val_precision: 0.7110 - val_recall: 0.5375\n",
      "Epoch 6/10\n",
      "188/188 [==============================] - 3s 14ms/step - loss: 0.7798 - accuracy: 0.6791 - precision: 0.7450 - recall: 0.5699 - val_loss: 0.7594 - val_accuracy: 0.6812 - val_precision: 0.7325 - val_recall: 0.6058\n",
      "Epoch 7/10\n",
      "188/188 [==============================] - 3s 14ms/step - loss: 0.7094 - accuracy: 0.7233 - precision: 0.7816 - recall: 0.6399 - val_loss: 0.6986 - val_accuracy: 0.7168 - val_precision: 0.7523 - val_recall: 0.6665\n",
      "Epoch 8/10\n",
      "188/188 [==============================] - 3s 14ms/step - loss: 0.6444 - accuracy: 0.7558 - precision: 0.8033 - recall: 0.6893 - val_loss: 0.6716 - val_accuracy: 0.7308 - val_precision: 0.7530 - val_recall: 0.6973\n",
      "Epoch 9/10\n",
      "188/188 [==============================] - 3s 14ms/step - loss: 0.5794 - accuracy: 0.7887 - precision: 0.8310 - recall: 0.7374 - val_loss: 0.5868 - val_accuracy: 0.7883 - val_precision: 0.8354 - val_recall: 0.7260\n",
      "Epoch 10/10\n",
      "188/188 [==============================] - 3s 14ms/step - loss: 0.5269 - accuracy: 0.8086 - precision: 0.8482 - recall: 0.7688 - val_loss: 0.5296 - val_accuracy: 0.8080 - val_precision: 0.8522 - val_recall: 0.7642\n"
     ]
    }
   ],
   "source": [
    "history = model.fit(X_train,y_train,validation_data=(X_val, y_val),batch_size=64,epochs=epochs,verbose=1)"
   ]
  },
  {
   "cell_type": "markdown",
   "id": "430001e3",
   "metadata": {
    "papermill": {
     "duration": 0.257105,
     "end_time": "2021-10-12T10:34:03.601892",
     "exception": false,
     "start_time": "2021-10-12T10:34:03.344787",
     "status": "completed"
    },
    "tags": []
   },
   "source": [
    "# Evaluate"
   ]
  },
  {
   "cell_type": "code",
   "execution_count": 28,
   "id": "038bb224",
   "metadata": {
    "execution": {
     "iopub.execute_input": "2021-10-12T10:34:04.124627Z",
     "iopub.status.busy": "2021-10-12T10:34:04.123724Z",
     "iopub.status.idle": "2021-10-12T10:34:05.698380Z",
     "shell.execute_reply": "2021-10-12T10:34:05.698779Z",
     "shell.execute_reply.started": "2021-10-12T10:30:21.193498Z"
    },
    "papermill": {
     "duration": 1.838114,
     "end_time": "2021-10-12T10:34:05.698945",
     "exception": false,
     "start_time": "2021-10-12T10:34:03.860831",
     "status": "completed"
    },
    "tags": []
   },
   "outputs": [
    {
     "name": "stdout",
     "output_type": "stream",
     "text": [
      "\n",
      "Accuracy  : 0.8030\n",
      "Precision : 0.8457\n",
      "Recall    : 0.7548\n",
      "F1 Score  : 0.7976\n"
     ]
    }
   ],
   "source": [
    "# Evaluate model on the test set\n",
    "loss, accuracy, precision, recall = model.evaluate(X_test, y_test, verbose=0)\n",
    "# Print metrics\n",
    "print('')\n",
    "print('Accuracy  : {:.4f}'.format(accuracy))\n",
    "print('Precision : {:.4f}'.format(precision))\n",
    "print('Recall    : {:.4f}'.format(recall))\n",
    "print('F1 Score  : {:.4f}'.format(f1_score(precision, recall)))"
   ]
  },
  {
   "cell_type": "code",
   "execution_count": 29,
   "id": "ac7cd4fc",
   "metadata": {
    "execution": {
     "iopub.execute_input": "2021-10-12T10:34:06.257032Z",
     "iopub.status.busy": "2021-10-12T10:34:06.234347Z",
     "iopub.status.idle": "2021-10-12T10:34:06.625022Z",
     "shell.execute_reply": "2021-10-12T10:34:06.624456Z",
     "shell.execute_reply.started": "2021-10-12T10:30:22.557982Z"
    },
    "papermill": {
     "duration": 0.669375,
     "end_time": "2021-10-12T10:34:06.625154",
     "exception": false,
     "start_time": "2021-10-12T10:34:05.955779",
     "status": "completed"
    },
    "tags": []
   },
   "outputs": [
    {
     "data": {
      "image/png": "[encoded data removed]",
      "text/plain": [
       "<Figure size 720x288 with 2 Axes>"
      ]
     },
     "metadata": {
      "needs_background": "light"
     },
     "output_type": "display_data"
    }
   ],
   "source": [
    "def plot_training_hist(history):\n",
    "    '''Function to plot history for accuracy and loss'''\n",
    "    \n",
    "    fig, ax = plt.subplots(1,2, figsize=(10,4))\n",
    "    # first plot\n",
    "    ax[0].plot(history.history['accuracy'])\n",
    "    ax[0].plot(history.history['val_accuracy'])\n",
    "    ax[0].set_title('Model Accuracy')\n",
    "    ax[0].set_xlabel('epoch')\n",
    "    ax[0].set_ylabel('accuracy')\n",
    "    ax[0].legend(['train', 'validation'], loc='best')\n",
    "    \n",
    "    # second plot\n",
    "    ax[1].plot(history.history['loss'])\n",
    "    ax[1].plot(history.history['val_loss'])\n",
    "    ax[1].set_title('Model Loss')\n",
    "    ax[1].set_xlabel('epoch')\n",
    "    ax[1].set_ylabel('loss')\n",
    "    ax[1].legend(['train', 'validation'], loc='best')\n",
    "    \n",
    "plot_training_hist(history)"
   ]
  },
  {
   "cell_type": "code",
   "execution_count": 30,
   "id": "6f8bbc24",
   "metadata": {
    "execution": {
     "iopub.execute_input": "2021-10-12T10:34:07.166089Z",
     "iopub.status.busy": "2021-10-12T10:34:07.165266Z",
     "iopub.status.idle": "2021-10-12T10:34:08.345833Z",
     "shell.execute_reply": "2021-10-12T10:34:08.345308Z",
     "shell.execute_reply.started": "2021-10-12T10:30:22.948157Z"
    },
    "papermill": {
     "duration": 1.453404,
     "end_time": "2021-10-12T10:34:08.345967",
     "exception": false,
     "start_time": "2021-10-12T10:34:06.892563",
     "status": "completed"
    },
    "tags": []
   },
   "outputs": [
    {
     "name": "stdout",
     "output_type": "stream",
     "text": [
      "1    2203\n",
      "2    1251\n",
      "0     546\n",
      "dtype: int64\n",
      "1    2504\n",
      "2    1496\n",
      "dtype: int64\n"
     ]
    },
    {
     "data": {
      "image/png": "[encoded data removed]",
      "text/plain": [
       "<Figure size 576x432 with 2 Axes>"
      ]
     },
     "metadata": {
      "needs_background": "light"
     },
     "output_type": "display_data"
    }
   ],
   "source": [
    "from sklearn.metrics import confusion_matrix\n",
    "\n",
    "def plot_confusion_matrix(model, X_test, y_test):\n",
    "    '''Function to plot confusion matrix for the passed model and the data'''\n",
    "    \n",
    "    sentiment_classes = ['Negative','Neutral', 'Positive']\n",
    "    # use model to do the prediction\n",
    "    y_pred = model.predict(X_test)\n",
    "    # compute confusion matrix\n",
    "    cm = confusion_matrix(np.argmax(y_pred, axis=1),np.argmax(np.array(y_test),axis=1))\n",
    "    \n",
    "    print(pd.Series(np.argmax(np.array(y_test),axis=1)).value_counts())\n",
    "    print(pd.Series(np.argmax(y_pred, axis=1)).value_counts())\n",
    "    \n",
    "    # plot confusion matrix\n",
    "    plt.figure(figsize=(8,6))\n",
    "    sns.heatmap(cm, cmap=plt.cm.Blues, annot=True, fmt='d', \n",
    "                xticklabels=sentiment_classes,\n",
    "                yticklabels=sentiment_classes)\n",
    "    plt.title('Confusion matrix', fontsize=16)\n",
    "    plt.xlabel('Actual label', fontsize=12)\n",
    "    plt.ylabel('Predicted label', fontsize=12)\n",
    "    \n",
    "plot_confusion_matrix(model, X_test, y_test)"
   ]
  },
  {
   "cell_type": "code",
   "execution_count": null,
   "id": "ef3980d0",
   "metadata": {
    "papermill": {
     "duration": 0.263026,
     "end_time": "2021-10-12T10:34:08.866516",
     "exception": false,
     "start_time": "2021-10-12T10:34:08.603490",
     "status": "completed"
    },
    "tags": []
   },
   "outputs": [],
   "source": []
  },
  {
   "cell_type": "code",
   "execution_count": null,
   "id": "d70aabba",
   "metadata": {
    "papermill": {
     "duration": 0.258468,
     "end_time": "2021-10-12T10:34:09.385461",
     "exception": false,
     "start_time": "2021-10-12T10:34:09.126993",
     "status": "completed"
    },
    "tags": []
   },
   "outputs": [],
   "source": []
  },
  {
   "cell_type": "code",
   "execution_count": null,
   "id": "6c4d6e71",
   "metadata": {
    "papermill": {
     "duration": 0.256446,
     "end_time": "2021-10-12T10:34:09.899060",
     "exception": false,
     "start_time": "2021-10-12T10:34:09.642614",
     "status": "completed"
    },
    "tags": []
   },
   "outputs": [],
   "source": []
  }
 ],
 "metadata": {
  "kernelspec": {
   "display_name": "Python 3",
   "language": "python",
   "name": "python3"
  },
  "language_info": {
   "codemirror_mode": {
    "name": "ipython",
    "version": 3
   },
   "file_extension": ".py",
   "mimetype": "text/x-python",
   "name": "python",
   "nbconvert_exporter": "python",
   "pygments_lexer": "ipython3",
   "version": "3.6.13"
  },
  "papermill": {
   "default_parameters": {},
   "duration": 194.649693,
   "end_time": "2021-10-12T10:34:13.275209",
   "environment_variables": {},
   "exception": null,
   "input_path": "__notebook__.ipynb",
   "output_path": "__notebook__.ipynb",
   "parameters": {},
   "start_time": "2021-10-12T10:30:58.625516",
   "version": "2.3.3"
  }
 },
 "nbformat": 4,
 "nbformat_minor": 5
}
