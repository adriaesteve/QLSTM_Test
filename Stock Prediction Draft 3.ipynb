{
 "cells": [
  {
   "cell_type": "markdown",
   "id": "659324d6",
   "metadata": {},
   "source": [
    "## Com debugar\n",
    "\n",
    "Instruccions a: https://docs.python.org/3/library/pdb.html#debugger-commands"
   ]
  },
  {
   "cell_type": "code",
   "execution_count": 2,
   "id": "b6c14720",
   "metadata": {},
   "outputs": [
    {
     "name": "stdout",
     "output_type": "stream",
     "text": [
      "--Call--\n",
      "> \u001b[0;32m/home/ec2-user/anaconda3/envs/Braket/lib/python3.7/site-packages/IPython/core/displayhook.py\u001b[0m(252)\u001b[0;36m__call__\u001b[0;34m()\u001b[0m\n",
      "\u001b[0;32m    250 \u001b[0;31m        \u001b[0msys\u001b[0m\u001b[0;34m.\u001b[0m\u001b[0mstdout\u001b[0m\u001b[0;34m.\u001b[0m\u001b[0mflush\u001b[0m\u001b[0;34m(\u001b[0m\u001b[0;34m)\u001b[0m\u001b[0;34m\u001b[0m\u001b[0;34m\u001b[0m\u001b[0m\n",
      "\u001b[0m\u001b[0;32m    251 \u001b[0;31m\u001b[0;34m\u001b[0m\u001b[0m\n",
      "\u001b[0m\u001b[0;32m--> 252 \u001b[0;31m    \u001b[0;32mdef\u001b[0m \u001b[0m__call__\u001b[0m\u001b[0;34m(\u001b[0m\u001b[0mself\u001b[0m\u001b[0;34m,\u001b[0m \u001b[0mresult\u001b[0m\u001b[0;34m=\u001b[0m\u001b[0;32mNone\u001b[0m\u001b[0;34m)\u001b[0m\u001b[0;34m:\u001b[0m\u001b[0;34m\u001b[0m\u001b[0;34m\u001b[0m\u001b[0m\n",
      "\u001b[0m\u001b[0;32m    253 \u001b[0;31m        \"\"\"Printing with history cache management.\n",
      "\u001b[0m\u001b[0;32m    254 \u001b[0;31m\u001b[0;34m\u001b[0m\u001b[0m\n",
      "\u001b[0m\n",
      "--KeyboardInterrupt--\n",
      "\n",
      "KeyboardInterrupt: Interrupted by user\n"
     ]
    }
   ],
   "source": [
    "from IPython.core.debugger import Pdb; Pdb().set_trace()"
   ]
  },
  {
   "cell_type": "code",
   "execution_count": 3,
   "id": "a9118be9",
   "metadata": {},
   "outputs": [
    {
     "name": "stdout",
     "output_type": "stream",
     "text": [
      "Looking in indexes: https://pypi.org/simple, https://pip.repos.neuron.amazonaws.com\n",
      "Collecting s3fs\n",
      "  Downloading s3fs-2022.5.0-py3-none-any.whl (27 kB)\n",
      "Collecting aiobotocore~=2.3.0\n",
      "  Downloading aiobotocore-2.3.4-py3-none-any.whl (64 kB)\n",
      "\u001b[K     |████████████████████████████████| 64 kB 6.4 MB/s  eta 0:00:01\n",
      "\u001b[?25hCollecting aiohttp<=4\n",
      "  Downloading aiohttp-3.8.1-cp37-cp37m-manylinux_2_5_x86_64.manylinux1_x86_64.manylinux_2_12_x86_64.manylinux2010_x86_64.whl (1.1 MB)\n",
      "\u001b[K     |███████████████████████████████▊| 1.1 MB 15.9 MB/s eta 0:00:01     |████████████████████████████████| 1.1 MB 15.9 MB/s \n",
      "\u001b[?25hCollecting fsspec==2022.5.0\n",
      "  Downloading fsspec-2022.5.0-py3-none-any.whl (140 kB)\n",
      "\u001b[K     |████████████████████████████████| 140 kB 83.4 MB/s eta 0:00:01\n",
      "\u001b[?25hCollecting botocore<1.24.22,>=1.24.21\n",
      "  Downloading botocore-1.24.21-py3-none-any.whl (8.6 MB)\n",
      "\u001b[K     |████████████████████████████████| 8.6 MB 29.2 MB/s eta 0:00:01\n",
      "\u001b[?25hRequirement already satisfied: wrapt>=1.10.10 in /home/ec2-user/anaconda3/envs/Braket/lib/python3.7/site-packages (from aiobotocore~=2.3.0->s3fs) (1.12.1)\n",
      "Collecting aioitertools>=0.5.1\n",
      "  Downloading aioitertools-0.10.0-py3-none-any.whl (23 kB)\n",
      "Requirement already satisfied: attrs>=17.3.0 in /home/ec2-user/anaconda3/envs/Braket/lib/python3.7/site-packages (from aiohttp<=4->s3fs) (21.4.0)\n",
      "Collecting frozenlist>=1.1.1\n",
      "  Downloading frozenlist-1.3.0-cp37-cp37m-manylinux_2_5_x86_64.manylinux1_x86_64.manylinux_2_17_x86_64.manylinux2014_x86_64.whl (144 kB)\n",
      "\u001b[K     |████████████████████████████████| 144 kB 20.7 MB/s eta 0:00:01\n",
      "\u001b[?25hCollecting multidict<7.0,>=4.5\n",
      "  Downloading multidict-6.0.2-cp37-cp37m-manylinux_2_17_x86_64.manylinux2014_x86_64.whl (94 kB)\n",
      "\u001b[K     |████████████████████████████████| 94 kB 408 kB/s  eta 0:00:01\n",
      "\u001b[?25hRequirement already satisfied: charset-normalizer<3.0,>=2.0 in /home/ec2-user/anaconda3/envs/Braket/lib/python3.7/site-packages (from aiohttp<=4->s3fs) (2.0.12)\n",
      "Collecting asynctest==0.13.0\n",
      "  Downloading asynctest-0.13.0-py3-none-any.whl (26 kB)\n",
      "Collecting async-timeout<5.0,>=4.0.0a3\n",
      "  Downloading async_timeout-4.0.2-py3-none-any.whl (5.8 kB)\n",
      "Collecting yarl<2.0,>=1.0\n",
      "  Downloading yarl-1.7.2-cp37-cp37m-manylinux_2_5_x86_64.manylinux1_x86_64.manylinux_2_12_x86_64.manylinux2010_x86_64.whl (271 kB)\n",
      "\u001b[K     |████████████████████████████████| 271 kB 46.7 MB/s eta 0:00:01\n",
      "\u001b[?25hRequirement already satisfied: typing-extensions>=3.7.4 in /home/ec2-user/anaconda3/envs/Braket/lib/python3.7/site-packages (from aiohttp<=4->s3fs) (3.7.4.3)\n",
      "Collecting aiosignal>=1.1.2\n",
      "  Downloading aiosignal-1.2.0-py3-none-any.whl (8.2 kB)\n",
      "Collecting typing-extensions>=3.7.4\n",
      "  Downloading typing_extensions-4.2.0-py3-none-any.whl (24 kB)\n",
      "Requirement already satisfied: urllib3<1.27,>=1.25.4 in /home/ec2-user/anaconda3/envs/Braket/lib/python3.7/site-packages (from botocore<1.24.22,>=1.24.21->aiobotocore~=2.3.0->s3fs) (1.26.9)\n",
      "Requirement already satisfied: python-dateutil<3.0.0,>=2.1 in /home/ec2-user/anaconda3/envs/Braket/lib/python3.7/site-packages (from botocore<1.24.22,>=1.24.21->aiobotocore~=2.3.0->s3fs) (2.8.2)\n",
      "Requirement already satisfied: jmespath<2.0.0,>=0.7.1 in /home/ec2-user/anaconda3/envs/Braket/lib/python3.7/site-packages (from botocore<1.24.22,>=1.24.21->aiobotocore~=2.3.0->s3fs) (1.0.0)\n",
      "Requirement already satisfied: six>=1.5 in /home/ec2-user/anaconda3/envs/Braket/lib/python3.7/site-packages (from python-dateutil<3.0.0,>=2.1->botocore<1.24.22,>=1.24.21->aiobotocore~=2.3.0->s3fs) (1.15.0)\n",
      "Requirement already satisfied: idna>=2.0 in /home/ec2-user/anaconda3/envs/Braket/lib/python3.7/site-packages (from yarl<2.0,>=1.0->aiohttp<=4->s3fs) (2.10)\n",
      "Installing collected packages: typing-extensions, multidict, frozenlist, yarl, asynctest, async-timeout, aiosignal, botocore, aioitertools, aiohttp, fsspec, aiobotocore, s3fs\n",
      "  Attempting uninstall: typing-extensions\n",
      "    Found existing installation: typing-extensions 3.7.4.3\n",
      "    Uninstalling typing-extensions-3.7.4.3:\n",
      "      Successfully uninstalled typing-extensions-3.7.4.3\n",
      "  Attempting uninstall: botocore\n",
      "    Found existing installation: botocore 1.25.3\n",
      "    Uninstalling botocore-1.25.3:\n",
      "      Successfully uninstalled botocore-1.25.3\n",
      "\u001b[31mERROR: pip's dependency resolver does not currently take into account all the packages that are installed. This behaviour is the source of the following dependency conflicts.\n",
      "tensorflow 2.6.0 requires typing-extensions~=3.7.4, but you have typing-extensions 4.2.0 which is incompatible.\n",
      "boto3 1.22.3 requires botocore<1.26.0,>=1.25.3, but you have botocore 1.24.21 which is incompatible.\n",
      "awscli 1.23.3 requires botocore==1.25.3, but you have botocore 1.24.21 which is incompatible.\u001b[0m\n",
      "Successfully installed aiobotocore-2.3.4 aiohttp-3.8.1 aioitertools-0.10.0 aiosignal-1.2.0 async-timeout-4.0.2 asynctest-0.13.0 botocore-1.24.21 frozenlist-1.3.0 fsspec-2022.5.0 multidict-6.0.2 s3fs-2022.5.0 typing-extensions-4.2.0 yarl-1.7.2\n",
      "Looking in indexes: https://pypi.org/simple, https://pip.repos.neuron.amazonaws.com\n",
      "Collecting sagemaker\n",
      "  Downloading sagemaker-2.96.0.tar.gz (534 kB)\n",
      "\u001b[K     |████████████████████████████████| 534 kB 12.9 MB/s eta 0:00:01\n",
      "\u001b[?25hCollecting attrs==20.3.0\n",
      "  Using cached attrs-20.3.0-py2.py3-none-any.whl (49 kB)\n",
      "Requirement already satisfied: boto3<2.0,>=1.20.21 in /home/ec2-user/anaconda3/envs/Braket/lib/python3.7/site-packages (from sagemaker) (1.22.3)\n",
      "Requirement already satisfied: google-pasta in /home/ec2-user/anaconda3/envs/Braket/lib/python3.7/site-packages (from sagemaker) (0.2.0)\n",
      "Requirement already satisfied: numpy<2.0,>=1.9.0 in /home/ec2-user/anaconda3/envs/Braket/lib/python3.7/site-packages (from sagemaker) (1.19.2)\n",
      "Requirement already satisfied: protobuf<4.0,>=3.1 in /home/ec2-user/anaconda3/envs/Braket/lib/python3.7/site-packages (from sagemaker) (3.12.4)\n",
      "Collecting protobuf3-to-dict<1.0,>=0.1.5\n",
      "  Using cached protobuf3_to_dict-0.1.5-py3-none-any.whl\n",
      "Collecting smdebug_rulesconfig==1.0.1\n",
      "  Using cached smdebug_rulesconfig-1.0.1-py2.py3-none-any.whl (20 kB)\n",
      "Requirement already satisfied: importlib-metadata<5.0,>=1.4.0 in /home/ec2-user/anaconda3/envs/Braket/lib/python3.7/site-packages (from sagemaker) (4.11.3)\n",
      "Requirement already satisfied: packaging>=20.0 in /home/ec2-user/anaconda3/envs/Braket/lib/python3.7/site-packages (from sagemaker) (21.3)\n",
      "Requirement already satisfied: pandas in /home/ec2-user/anaconda3/envs/Braket/lib/python3.7/site-packages (from sagemaker) (1.1.4)\n",
      "Collecting pathos\n",
      "  Downloading pathos-0.2.9-py3-none-any.whl (76 kB)\n",
      "\u001b[K     |████████████████████████████████| 76 kB 3.3 MB/s  eta 0:00:01\n",
      "\u001b[?25hRequirement already satisfied: s3transfer<0.6.0,>=0.5.0 in /home/ec2-user/anaconda3/envs/Braket/lib/python3.7/site-packages (from boto3<2.0,>=1.20.21->sagemaker) (0.5.0)\n",
      "Collecting botocore<1.26.0,>=1.25.3\n",
      "  Downloading botocore-1.25.13-py3-none-any.whl (8.7 MB)\n",
      "\u001b[K     |████████████████████████████████| 8.7 MB 11.7 MB/s eta 0:00:01     |███████████████████▏            | 5.2 MB 11.7 MB/s eta 0:00:01\n",
      "\u001b[?25hRequirement already satisfied: jmespath<2.0.0,>=0.7.1 in /home/ec2-user/anaconda3/envs/Braket/lib/python3.7/site-packages (from boto3<2.0,>=1.20.21->sagemaker) (1.0.0)\n",
      "Requirement already satisfied: urllib3<1.27,>=1.25.4 in /home/ec2-user/anaconda3/envs/Braket/lib/python3.7/site-packages (from botocore<1.26.0,>=1.25.3->boto3<2.0,>=1.20.21->sagemaker) (1.26.9)\n",
      "Requirement already satisfied: python-dateutil<3.0.0,>=2.1 in /home/ec2-user/anaconda3/envs/Braket/lib/python3.7/site-packages (from botocore<1.26.0,>=1.25.3->boto3<2.0,>=1.20.21->sagemaker) (2.8.2)\n",
      "Requirement already satisfied: typing-extensions>=3.6.4 in /home/ec2-user/anaconda3/envs/Braket/lib/python3.7/site-packages (from importlib-metadata<5.0,>=1.4.0->sagemaker) (4.2.0)\n",
      "Requirement already satisfied: zipp>=0.5 in /home/ec2-user/anaconda3/envs/Braket/lib/python3.7/site-packages (from importlib-metadata<5.0,>=1.4.0->sagemaker) (3.8.0)\n",
      "Requirement already satisfied: pyparsing!=3.0.5,>=2.0.2 in /home/ec2-user/anaconda3/envs/Braket/lib/python3.7/site-packages (from packaging>=20.0->sagemaker) (3.0.4)\n",
      "Requirement already satisfied: six>=1.9 in /home/ec2-user/anaconda3/envs/Braket/lib/python3.7/site-packages (from protobuf<4.0,>=3.1->sagemaker) (1.15.0)\n",
      "Requirement already satisfied: setuptools in /home/ec2-user/anaconda3/envs/Braket/lib/python3.7/site-packages (from protobuf<4.0,>=3.1->sagemaker) (58.0.4)\n",
      "Requirement already satisfied: pytz>=2017.2 in /home/ec2-user/anaconda3/envs/Braket/lib/python3.7/site-packages (from pandas->sagemaker) (2021.3)\n",
      "Collecting pox>=0.3.1\n",
      "  Downloading pox-0.3.1-py2.py3-none-any.whl (28 kB)\n",
      "Collecting dill>=0.3.5.1\n",
      "  Downloading dill-0.3.5.1-py2.py3-none-any.whl (95 kB)\n",
      "\u001b[K     |████████████████████████████████| 95 kB 467 kB/s  eta 0:00:01\n",
      "\u001b[?25hCollecting multiprocess>=0.70.13\n",
      "  Downloading multiprocess-0.70.13-py37-none-any.whl (115 kB)\n",
      "\u001b[K     |████████████████████████████████| 115 kB 81.8 MB/s eta 0:00:01\n",
      "\u001b[?25hCollecting ppft>=1.7.6.5\n",
      "  Downloading ppft-1.7.6.5-py2.py3-none-any.whl (52 kB)\n",
      "\u001b[K     |████████████████████████████████| 52 kB 123 kB/s  eta 0:00:01\n",
      "\u001b[?25hBuilding wheels for collected packages: sagemaker\n",
      "  Building wheel for sagemaker (setup.py) ... \u001b[?25ldone\n",
      "\u001b[?25h  Created wheel for sagemaker: filename=sagemaker-2.96.0-py2.py3-none-any.whl size=747387 sha256=d88881627c08a821aad68298bb1eabb51f254d2f7c974c91c8dbe7f4ace3f74e\n",
      "  Stored in directory: /home/ec2-user/.cache/pip/wheels/ff/4f/95/9439a65123fca28b5d6736c79240331e7bbb71892141aa719f\n",
      "Successfully built sagemaker\n",
      "Installing collected packages: dill, botocore, ppft, pox, multiprocess, smdebug-rulesconfig, protobuf3-to-dict, pathos, attrs, sagemaker\n",
      "  Attempting uninstall: botocore\n",
      "    Found existing installation: botocore 1.24.21\n",
      "    Uninstalling botocore-1.24.21:\n",
      "      Successfully uninstalled botocore-1.24.21\n",
      "  Attempting uninstall: attrs\n",
      "    Found existing installation: attrs 21.4.0\n",
      "    Uninstalling attrs-21.4.0:\n",
      "      Successfully uninstalled attrs-21.4.0\n",
      "\u001b[31mERROR: pip's dependency resolver does not currently take into account all the packages that are installed. This behaviour is the source of the following dependency conflicts.\n",
      "awscli 1.23.3 requires botocore==1.25.3, but you have botocore 1.25.13 which is incompatible.\n",
      "aiobotocore 2.3.4 requires botocore<1.24.22,>=1.24.21, but you have botocore 1.25.13 which is incompatible.\u001b[0m\n",
      "Successfully installed attrs-20.3.0 botocore-1.25.13 dill-0.3.5.1 multiprocess-0.70.13 pathos-0.2.9 pox-0.3.1 ppft-1.7.6.5 protobuf3-to-dict-0.1.5 sagemaker-2.96.0 smdebug-rulesconfig-1.0.1\n",
      "Looking in indexes: https://pypi.org/simple, https://pip.repos.neuron.amazonaws.com\n",
      "Collecting utils\n",
      "  Downloading utils-1.0.1-py2.py3-none-any.whl (21 kB)\n",
      "Installing collected packages: utils\n",
      "Successfully installed utils-1.0.1\n"
     ]
    }
   ],
   "source": [
    "!pip install s3fs\n",
    "!pip install sagemaker\n",
    "!pip install utils\n"
   ]
  },
  {
   "cell_type": "code",
   "execution_count": 4,
   "id": "f5539e58",
   "metadata": {},
   "outputs": [],
   "source": [
    "from sagemaker import get_execution_role\n",
    "import boto3\n",
    "role = get_execution_role()"
   ]
  },
  {
   "cell_type": "code",
   "execution_count": 5,
   "id": "b3e0880c",
   "metadata": {},
   "outputs": [
    {
     "name": "stdout",
     "output_type": "stream",
     "text": [
      "<botocore.client.S3 object at 0x7fa73e6dd610>\n"
     ]
    },
    {
     "data": {
      "text/plain": [
       "'050980610391'"
      ]
     },
     "execution_count": 5,
     "metadata": {},
     "output_type": "execute_result"
    }
   ],
   "source": [
    "bucket = 'dataset-bucket'\n",
    "subfolder = ''\n",
    "conn = boto3.client('s3')\n",
    "print(conn)\n",
    "boto3.client('sts').get_caller_identity().get('Account')"
   ]
  },
  {
   "cell_type": "code",
   "execution_count": 6,
   "id": "90ddb57d",
   "metadata": {},
   "outputs": [],
   "source": [
    "conn.download_file(bucket, 'dataset_BTCUSD_10primers.csv', 'dataset_BTCUSD_10primers.csv')"
   ]
  },
  {
   "cell_type": "code",
   "execution_count": 7,
   "id": "284a7780",
   "metadata": {},
   "outputs": [],
   "source": [
    "import helper\n",
    "import pandas as pd\n",
    "from utils import *\n",
    "\n",
    "import time\n",
    "import numpy as np\n",
    "import math\n",
    "import matplotlib.pyplot as plt\n",
    "\n",
    "import torch\n",
    "from torch.utils.data import DataLoader\n",
    "from torch import nn\n",
    "\n",
    "from IPython.display import Image\n"
   ]
  },
  {
   "cell_type": "markdown",
   "id": "c30168cd",
   "metadata": {},
   "source": [
    "# Introduction"
   ]
  },
  {
   "cell_type": "markdown",
   "id": "12b2e8f1",
   "metadata": {},
   "source": [
    "Stock price prediction is one of the most rewarding problems in modern finance, where the accurate forecasting of future stock prices can yield significant profit and reduce the risks. LSTM (Long Short-Term Memory) is a recurrent Neural Network (RNN) applicable to a broad range of problems aiming to analyze or classify sequential data. Therefore, many people have used LSTM to predict the future stock price based on the historical data sequences with great success.\n",
    "\n",
    "On the other hand, recent studies have shown that the LSTM's efficiency and trainability can be improved by replacing some of the layers in the LSTM with variational quantum layers, thus making it a quantum-classical hybrid model of LSTM which we will call QLSTM for Quantum LSTM. In the study done by Samuel Yen-Chi Chen, Shinjae Yoo, and Yao-Lung L. Fang, they show that QLSTM offers better trainability compared to its classical counterpart as it proved to learn significantly more information after the first training epoch than its classical counterpart, learnt the local features better, all while having a comparable number of parameters. Inspired by these recent results, we proceed to test this variational quantum-classical hybrid neural network technique on stock price predictions. \n",
    "\n",
    "In the following notebook, we show a proof of concept that QLSTM can be used to great effect for stock price prediction, offering comparable and arguably better results than its classical counterpart. To do so, we implement both LSTM and QLSTM to predict the stock prices of the company Merck & Co. Inc (MRK) with the same number of features, of which we chose based on earlier studies done with stock price predictions."
   ]
  },
  {
   "cell_type": "markdown",
   "id": "aa6a9739",
   "metadata": {},
   "source": [
    "This submission was motivated by a combination of a few separate studies:\n",
    "\n",
    "Stock price prediction use BERT and GAN: https://arxiv.org/pdf/2107.09055.pdf, Priyank Sonkiya, Vikas Bajpai, Anukriti Bansal <br>\n",
    "Quantum Long Short-Term Memory: https://arxiv.org/pdf/2009.01783.pdf, Samuel Yen-Chi Chen, Shinjae Yoo, and Yao-Lung L. Fang <br>\n",
    "\n",
    "With code and ideas reused and repurposed from the following sources:\n",
    "\n",
    "Example of a QLSTM: https://github.com/rdisipio/qlstm, Riccardo Di Sipio <br>\n",
    "How to use PyTorch LSTMs for time series regression: https://www.crosstab.io/articles/time-series-pytorch-lstm, Brian Kent <br>\n",
    "Using GANs to predict stock price movement: https://towardsdatascience.com/aifortrading-2edd6fac689d, Boris Banushev<br>"
   ]
  },
  {
   "cell_type": "markdown",
   "id": "93528857",
   "metadata": {},
   "source": [
    "## Brief Outline"
   ]
  },
  {
   "cell_type": "markdown",
   "id": "0c5427cc",
   "metadata": {},
   "source": [
    "To demonstrate the use of QLSTM for stock prediction, we use the stock prices of the company Merck & Co. Inc (MRK). The notebook will proceed in the following manner:\n",
    "\n",
    "1. Brief description of Data\n",
    "2. Using Classical LSTM to perform stock price prediction\n",
    "3. Defining QLSTM and using it to perform stock price prediction\n",
    "4. Comparison between LSTM and QLSTM\n",
    "\n",
    "Note that for the LSTM, we would be using PyTorch; while for the QLSTM we would be using PyTorch and Pennylane. "
   ]
  },
  {
   "cell_type": "markdown",
   "id": "8dd2e12a",
   "metadata": {},
   "source": [
    "# Data"
   ]
  },
  {
   "cell_type": "markdown",
   "id": "c50162d0",
   "metadata": {},
   "source": [
    "Data Description: We have collected the historical data of the MRK stock prices, of which we focus on the closing price. Our goal is then to forecast the closing stock prices of MRK using LSTM (or QLSTM). \n",
    "\n",
    "To achieve this goal, we have collected the following necessary data and information. This includes the following:\n",
    "\n",
    "- Technical indicators\n",
    "- Trend approximations (Fourier Transforms)\n",
    "- ARIMA \n",
    "- Correlated assets\n",
    "- Sentimental analysis\n",
    "\n",
    "While interesting and important in its own right, we have decided not to go into detail for the data collection in this notebook. For more information, please go take a look at the Data Collection notebook also in this Github. \n",
    "\n",
    "In this section, our goal is to process the data necessary for the LSTM and QLSTM."
   ]
  },
  {
   "cell_type": "markdown",
   "id": "12941756",
   "metadata": {},
   "source": [
    "First, we read in the data, dropping the index and the date."
   ]
  },
  {
   "cell_type": "code",
   "execution_count": 10,
   "id": "93fc1d30",
   "metadata": {
    "scrolled": true
   },
   "outputs": [
    {
     "data": {
      "text/html": [
       "<div>\n",
       "<style scoped>\n",
       "    .dataframe tbody tr th:only-of-type {\n",
       "        vertical-align: middle;\n",
       "    }\n",
       "\n",
       "    .dataframe tbody tr th {\n",
       "        vertical-align: top;\n",
       "    }\n",
       "\n",
       "    .dataframe thead th {\n",
       "        text-align: right;\n",
       "    }\n",
       "</style>\n",
       "<table border=\"1\" class=\"dataframe\">\n",
       "  <thead>\n",
       "    <tr style=\"text-align: right;\">\n",
       "      <th></th>\n",
       "      <th>Close</th>\n",
       "      <th>ma30</th>\n",
       "      <th>ma90</th>\n",
       "      <th>26ema</th>\n",
       "      <th>12ema</th>\n",
       "      <th>MACD</th>\n",
       "      <th>20sd</th>\n",
       "      <th>upper_band</th>\n",
       "      <th>lower_band</th>\n",
       "      <th>ema</th>\n",
       "      <th>momentum</th>\n",
       "      <th>log_momentum</th>\n",
       "      <th>FT3</th>\n",
       "      <th>FT6</th>\n",
       "      <th>FT9</th>\n",
       "      <th>Close_lead1</th>\n",
       "      <th>Close_lead180</th>\n",
       "    </tr>\n",
       "  </thead>\n",
       "  <tbody>\n",
       "    <tr>\n",
       "      <th>0</th>\n",
       "      <td>3999.5</td>\n",
       "      <td>3999.677778</td>\n",
       "      <td>4000.439229</td>\n",
       "      <td>3999.687083</td>\n",
       "      <td>3999.622025</td>\n",
       "      <td>-0.065059</td>\n",
       "      <td>0.213060</td>\n",
       "      <td>4000.865350</td>\n",
       "      <td>4000.013108</td>\n",
       "      <td>3999.512384</td>\n",
       "      <td>3998.5</td>\n",
       "      <td>8.293675</td>\n",
       "      <td>4010.101605</td>\n",
       "      <td>3837.820983</td>\n",
       "      <td>4054.936675</td>\n",
       "      <td>3999.5</td>\n",
       "      <td>4002.500000</td>\n",
       "    </tr>\n",
       "    <tr>\n",
       "      <th>1</th>\n",
       "      <td>3999.5</td>\n",
       "      <td>3999.677778</td>\n",
       "      <td>4000.417007</td>\n",
       "      <td>3999.673213</td>\n",
       "      <td>3999.603252</td>\n",
       "      <td>-0.069961</td>\n",
       "      <td>0.208377</td>\n",
       "      <td>4000.833761</td>\n",
       "      <td>4000.000253</td>\n",
       "      <td>3999.504128</td>\n",
       "      <td>3998.5</td>\n",
       "      <td>8.293675</td>\n",
       "      <td>4010.106136</td>\n",
       "      <td>3837.811912</td>\n",
       "      <td>4054.933205</td>\n",
       "      <td>3999.5</td>\n",
       "      <td>4002.500000</td>\n",
       "    </tr>\n",
       "    <tr>\n",
       "      <th>2</th>\n",
       "      <td>3999.5</td>\n",
       "      <td>3999.677778</td>\n",
       "      <td>4000.394785</td>\n",
       "      <td>3999.660371</td>\n",
       "      <td>3999.587367</td>\n",
       "      <td>-0.073005</td>\n",
       "      <td>0.208377</td>\n",
       "      <td>4000.811539</td>\n",
       "      <td>3999.978030</td>\n",
       "      <td>3999.501376</td>\n",
       "      <td>3998.5</td>\n",
       "      <td>8.293675</td>\n",
       "      <td>4010.110666</td>\n",
       "      <td>3837.802840</td>\n",
       "      <td>4054.929733</td>\n",
       "      <td>3999.5</td>\n",
       "      <td>4002.500000</td>\n",
       "    </tr>\n",
       "    <tr>\n",
       "      <th>3</th>\n",
       "      <td>3999.5</td>\n",
       "      <td>3999.677778</td>\n",
       "      <td>4000.372562</td>\n",
       "      <td>3999.648483</td>\n",
       "      <td>3999.573926</td>\n",
       "      <td>-0.074557</td>\n",
       "      <td>0.200329</td>\n",
       "      <td>4000.773220</td>\n",
       "      <td>3999.971905</td>\n",
       "      <td>3999.500459</td>\n",
       "      <td>3998.5</td>\n",
       "      <td>8.293675</td>\n",
       "      <td>4010.115196</td>\n",
       "      <td>3837.793769</td>\n",
       "      <td>4054.926262</td>\n",
       "      <td>3999.5</td>\n",
       "      <td>4002.500000</td>\n",
       "    </tr>\n",
       "    <tr>\n",
       "      <th>4</th>\n",
       "      <td>3999.5</td>\n",
       "      <td>3999.661111</td>\n",
       "      <td>4000.350340</td>\n",
       "      <td>3999.637476</td>\n",
       "      <td>3999.562552</td>\n",
       "      <td>-0.074923</td>\n",
       "      <td>0.188484</td>\n",
       "      <td>4000.727309</td>\n",
       "      <td>3999.973372</td>\n",
       "      <td>3999.500153</td>\n",
       "      <td>3998.5</td>\n",
       "      <td>8.293675</td>\n",
       "      <td>4010.119726</td>\n",
       "      <td>3837.784698</td>\n",
       "      <td>4054.922790</td>\n",
       "      <td>3999.5</td>\n",
       "      <td>4002.500000</td>\n",
       "    </tr>\n",
       "    <tr>\n",
       "      <th>...</th>\n",
       "      <td>...</td>\n",
       "      <td>...</td>\n",
       "      <td>...</td>\n",
       "      <td>...</td>\n",
       "      <td>...</td>\n",
       "      <td>...</td>\n",
       "      <td>...</td>\n",
       "      <td>...</td>\n",
       "      <td>...</td>\n",
       "      <td>...</td>\n",
       "      <td>...</td>\n",
       "      <td>...</td>\n",
       "      <td>...</td>\n",
       "      <td>...</td>\n",
       "      <td>...</td>\n",
       "      <td>...</td>\n",
       "      <td>...</td>\n",
       "    </tr>\n",
       "    <tr>\n",
       "      <th>855626</th>\n",
       "      <td>4001.0</td>\n",
       "      <td>4001.141667</td>\n",
       "      <td>4001.338889</td>\n",
       "      <td>4001.090676</td>\n",
       "      <td>4001.020606</td>\n",
       "      <td>-0.070069</td>\n",
       "      <td>0.102595</td>\n",
       "      <td>4001.544079</td>\n",
       "      <td>4001.133699</td>\n",
       "      <td>4001.000000</td>\n",
       "      <td>4000.0</td>\n",
       "      <td>8.294050</td>\n",
       "      <td>4008.858410</td>\n",
       "      <td>3840.319139</td>\n",
       "      <td>4055.874666</td>\n",
       "      <td>4001.0</td>\n",
       "      <td>4000.000000</td>\n",
       "    </tr>\n",
       "    <tr>\n",
       "      <th>855627</th>\n",
       "      <td>4001.0</td>\n",
       "      <td>4001.141667</td>\n",
       "      <td>4001.333333</td>\n",
       "      <td>4001.083959</td>\n",
       "      <td>4001.017436</td>\n",
       "      <td>-0.066523</td>\n",
       "      <td>0.091584</td>\n",
       "      <td>4001.516501</td>\n",
       "      <td>4001.150166</td>\n",
       "      <td>4001.000000</td>\n",
       "      <td>4000.0</td>\n",
       "      <td>8.294050</td>\n",
       "      <td>4008.862921</td>\n",
       "      <td>3840.310043</td>\n",
       "      <td>4055.871314</td>\n",
       "      <td>4001.5</td>\n",
       "      <td>4000.000000</td>\n",
       "    </tr>\n",
       "    <tr>\n",
       "      <th>855628</th>\n",
       "      <td>4001.5</td>\n",
       "      <td>4001.158333</td>\n",
       "      <td>4001.333333</td>\n",
       "      <td>4001.114777</td>\n",
       "      <td>4001.091677</td>\n",
       "      <td>-0.023100</td>\n",
       "      <td>0.130785</td>\n",
       "      <td>4001.594903</td>\n",
       "      <td>4001.071764</td>\n",
       "      <td>4001.333333</td>\n",
       "      <td>4000.5</td>\n",
       "      <td>8.294175</td>\n",
       "      <td>4008.867433</td>\n",
       "      <td>3840.300946</td>\n",
       "      <td>4055.867962</td>\n",
       "      <td>4001.5</td>\n",
       "      <td>4000.000000</td>\n",
       "    </tr>\n",
       "    <tr>\n",
       "      <th>855629</th>\n",
       "      <td>4001.5</td>\n",
       "      <td>4001.175000</td>\n",
       "      <td>4001.333333</td>\n",
       "      <td>4001.143312</td>\n",
       "      <td>4001.154496</td>\n",
       "      <td>0.011184</td>\n",
       "      <td>0.159665</td>\n",
       "      <td>4001.652663</td>\n",
       "      <td>4001.014004</td>\n",
       "      <td>4001.444444</td>\n",
       "      <td>4000.5</td>\n",
       "      <td>8.294175</td>\n",
       "      <td>4008.871944</td>\n",
       "      <td>3840.291850</td>\n",
       "      <td>4055.864610</td>\n",
       "      <td>4001.5</td>\n",
       "      <td>4000.742188</td>\n",
       "    </tr>\n",
       "    <tr>\n",
       "      <th>855630</th>\n",
       "      <td>4001.5</td>\n",
       "      <td>4001.175000</td>\n",
       "      <td>4001.333333</td>\n",
       "      <td>4001.169733</td>\n",
       "      <td>4001.207650</td>\n",
       "      <td>0.037917</td>\n",
       "      <td>0.183172</td>\n",
       "      <td>4001.699678</td>\n",
       "      <td>4000.966989</td>\n",
       "      <td>4001.481481</td>\n",
       "      <td>4000.5</td>\n",
       "      <td>8.294175</td>\n",
       "      <td>4008.876456</td>\n",
       "      <td>3840.282754</td>\n",
       "      <td>4055.861257</td>\n",
       "      <td>4001.5</td>\n",
       "      <td>4001.500000</td>\n",
       "    </tr>\n",
       "  </tbody>\n",
       "</table>\n",
       "<p>855631 rows × 17 columns</p>\n",
       "</div>"
      ],
      "text/plain": [
       "         Close         ma30         ma90        26ema        12ema      MACD  \\\n",
       "0       3999.5  3999.677778  4000.439229  3999.687083  3999.622025 -0.065059   \n",
       "1       3999.5  3999.677778  4000.417007  3999.673213  3999.603252 -0.069961   \n",
       "2       3999.5  3999.677778  4000.394785  3999.660371  3999.587367 -0.073005   \n",
       "3       3999.5  3999.677778  4000.372562  3999.648483  3999.573926 -0.074557   \n",
       "4       3999.5  3999.661111  4000.350340  3999.637476  3999.562552 -0.074923   \n",
       "...        ...          ...          ...          ...          ...       ...   \n",
       "855626  4001.0  4001.141667  4001.338889  4001.090676  4001.020606 -0.070069   \n",
       "855627  4001.0  4001.141667  4001.333333  4001.083959  4001.017436 -0.066523   \n",
       "855628  4001.5  4001.158333  4001.333333  4001.114777  4001.091677 -0.023100   \n",
       "855629  4001.5  4001.175000  4001.333333  4001.143312  4001.154496  0.011184   \n",
       "855630  4001.5  4001.175000  4001.333333  4001.169733  4001.207650  0.037917   \n",
       "\n",
       "            20sd   upper_band   lower_band          ema  momentum  \\\n",
       "0       0.213060  4000.865350  4000.013108  3999.512384    3998.5   \n",
       "1       0.208377  4000.833761  4000.000253  3999.504128    3998.5   \n",
       "2       0.208377  4000.811539  3999.978030  3999.501376    3998.5   \n",
       "3       0.200329  4000.773220  3999.971905  3999.500459    3998.5   \n",
       "4       0.188484  4000.727309  3999.973372  3999.500153    3998.5   \n",
       "...          ...          ...          ...          ...       ...   \n",
       "855626  0.102595  4001.544079  4001.133699  4001.000000    4000.0   \n",
       "855627  0.091584  4001.516501  4001.150166  4001.000000    4000.0   \n",
       "855628  0.130785  4001.594903  4001.071764  4001.333333    4000.5   \n",
       "855629  0.159665  4001.652663  4001.014004  4001.444444    4000.5   \n",
       "855630  0.183172  4001.699678  4000.966989  4001.481481    4000.5   \n",
       "\n",
       "        log_momentum          FT3          FT6          FT9  Close_lead1  \\\n",
       "0           8.293675  4010.101605  3837.820983  4054.936675       3999.5   \n",
       "1           8.293675  4010.106136  3837.811912  4054.933205       3999.5   \n",
       "2           8.293675  4010.110666  3837.802840  4054.929733       3999.5   \n",
       "3           8.293675  4010.115196  3837.793769  4054.926262       3999.5   \n",
       "4           8.293675  4010.119726  3837.784698  4054.922790       3999.5   \n",
       "...              ...          ...          ...          ...          ...   \n",
       "855626      8.294050  4008.858410  3840.319139  4055.874666       4001.0   \n",
       "855627      8.294050  4008.862921  3840.310043  4055.871314       4001.5   \n",
       "855628      8.294175  4008.867433  3840.300946  4055.867962       4001.5   \n",
       "855629      8.294175  4008.871944  3840.291850  4055.864610       4001.5   \n",
       "855630      8.294175  4008.876456  3840.282754  4055.861257       4001.5   \n",
       "\n",
       "        Close_lead180  \n",
       "0         4002.500000  \n",
       "1         4002.500000  \n",
       "2         4002.500000  \n",
       "3         4002.500000  \n",
       "4         4002.500000  \n",
       "...               ...  \n",
       "855626    4000.000000  \n",
       "855627    4000.000000  \n",
       "855628    4000.000000  \n",
       "855629    4000.742188  \n",
       "855630    4001.500000  \n",
       "\n",
       "[855631 rows x 17 columns]"
      ]
     },
     "execution_count": 10,
     "metadata": {},
     "output_type": "execute_result"
    }
   ],
   "source": [
    "df = pd.read_csv('dataset_BTCUSD_10primers.csv')\n",
    "df = df.drop(['Date' ,'Unnamed: 0'], axis=1)\n",
    "df"
   ]
  },
  {
   "cell_type": "markdown",
   "id": "b99655e8",
   "metadata": {},
   "source": [
    "We identify the dependent and independent variables:"
   ]
  },
  {
   "cell_type": "code",
   "execution_count": 11,
   "id": "5c26bf68",
   "metadata": {},
   "outputs": [],
   "source": [
    "target = \"Close_lead1\""
   ]
  },
  {
   "cell_type": "code",
   "execution_count": 12,
   "id": "3d0e1d34",
   "metadata": {},
   "outputs": [
    {
     "data": {
      "text/plain": [
       "['12ema',\n",
       " '20sd',\n",
       " '26ema',\n",
       " 'Close_lead180',\n",
       " 'FT3',\n",
       " 'FT6',\n",
       " 'FT9',\n",
       " 'MACD',\n",
       " 'ema',\n",
       " 'log_momentum',\n",
       " 'lower_band',\n",
       " 'ma30',\n",
       " 'ma90',\n",
       " 'momentum',\n",
       " 'upper_band']"
      ]
     },
     "execution_count": 12,
     "metadata": {},
     "output_type": "execute_result"
    }
   ],
   "source": [
    "features = list(df.columns.difference([\"Close\", 'Close_lead1']))\n",
    "features"
   ]
  },
  {
   "cell_type": "markdown",
   "id": "e09c2dad",
   "metadata": {},
   "source": [
    "## Data Processing"
   ]
  },
  {
   "cell_type": "markdown",
   "id": "d190cae8",
   "metadata": {},
   "source": [
    "To process the data, we first split it into training and test data, where two-thirds of the data is used for training, and the last third is used for testing."
   ]
  },
  {
   "cell_type": "code",
   "execution_count": 13,
   "id": "ad9b06e9",
   "metadata": {},
   "outputs": [],
   "source": [
    "size = int(len(df) * 0.67)\n",
    "\n",
    "df_train = df.loc[:size].copy()\n",
    "df_test = df.loc[size:].copy()"
   ]
  },
  {
   "cell_type": "markdown",
   "id": "3920a570",
   "metadata": {},
   "source": [
    "Next, in order to ensure that some values due to their mangnitude do not inherently dominate the features, we standardize their values."
   ]
  },
  {
   "cell_type": "code",
   "execution_count": 14,
   "id": "b0ebae9a",
   "metadata": {},
   "outputs": [],
   "source": [
    "target_mean = df_train[target].mean()\n",
    "target_stdev = df_train[target].std()\n",
    "\n",
    "for c in df_train.columns:\n",
    "    mean = df_train[c].mean()\n",
    "    stdev = df_train[c].std()\n",
    "\n",
    "    df_train[c] = (df_train[c] - mean) / stdev\n",
    "    df_test[c] = (df_test[c] - mean) / stdev"
   ]
  },
  {
   "cell_type": "code",
   "execution_count": 15,
   "id": "c883cffc",
   "metadata": {},
   "outputs": [],
   "source": [
    "from Factory import SequenceDataset"
   ]
  },
  {
   "cell_type": "markdown",
   "id": "7ee4f84c",
   "metadata": {},
   "source": [
    "Finally, the last step in the data processing to prepare for LSTM is to prepare the data in a sequence of past observations. Preparation of the LSTM on time series data means that it uses a certain number of past observations to predict the future. In this case, the sequence length decides how many days the LSTM considers in advance. If the sequence length is $n$, then the LSTM considers the last $n$ observations to predict the $n+1$th day.\n",
    "\n",
    "We decided the sequence length as 3 for purposes of this notebook."
   ]
  },
  {
   "cell_type": "code",
   "execution_count": 16,
   "id": "812c521f",
   "metadata": {},
   "outputs": [
    {
     "name": "stdout",
     "output_type": "stream",
     "text": [
      "Features shape: torch.Size([1, 3, 15])\n",
      "Target shape: torch.Size([1])\n"
     ]
    }
   ],
   "source": [
    "torch.manual_seed(101)\n",
    "\n",
    "batch_size = 1\n",
    "\n",
    "#TODO aesteveb aquest valor s'hauria d'augmentar, son els periodes que mira enradera per fer forecast\n",
    "sequence_length = 3\n",
    "\n",
    "train_dataset = SequenceDataset(\n",
    "    df_train,\n",
    "    target=target,\n",
    "    features=features,\n",
    "    sequence_length=sequence_length\n",
    ")\n",
    "test_dataset = SequenceDataset(\n",
    "    df_test,\n",
    "    target=target,\n",
    "    features=features,\n",
    "    sequence_length=sequence_length\n",
    ")\n",
    "\n",
    "train_loader = DataLoader(train_dataset, batch_size=batch_size, shuffle=True)\n",
    "test_loader = DataLoader(test_dataset, batch_size=batch_size, shuffle=False)\n",
    "\n",
    "X, y = next(iter(train_loader))\n",
    "\n",
    "print(\"Features shape:\", X.shape)\n",
    "print(\"Target shape:\", y.shape)"
   ]
  },
  {
   "cell_type": "markdown",
   "id": "797857b0",
   "metadata": {},
   "source": [
    "# Classical LSTM"
   ]
  },
  {
   "cell_type": "markdown",
   "id": "9a5c1923",
   "metadata": {},
   "source": [
    "We first define two functions:\n",
    "    \n",
    "- train_model: function to train the model based on the batches of data\n",
    "- test_model: function to test the model on the testing data\n",
    "    \n",
    "We print the loss at the end to understand how the model is performing with regards to the data."
   ]
  },
  {
   "cell_type": "code",
   "execution_count": 17,
   "id": "77d16d84",
   "metadata": {},
   "outputs": [],
   "source": [
    "def train_model(data_loader, model, loss_function, optimizer):\n",
    "    num_batches = len(data_loader)\n",
    "    total_loss = 0\n",
    "    model.train()\n",
    "    \n",
    "    for X, y in data_loader:\n",
    "        output = model(X)\n",
    "        loss = loss_function(output, y)\n",
    "\n",
    "        optimizer.zero_grad()\n",
    "        loss.backward()\n",
    "        optimizer.step()\n",
    "\n",
    "        total_loss += loss.item()\n",
    "\n",
    "    avg_loss = total_loss / num_batches\n",
    "    print(f\"Train loss: {avg_loss}\")\n",
    "    return avg_loss\n",
    "\n",
    "def test_model(data_loader, model, loss_function):\n",
    "    \n",
    "    num_batches = len(data_loader)\n",
    "    total_loss = 0\n",
    "\n",
    "    model.eval()\n",
    "    with torch.no_grad():\n",
    "        for X, y in data_loader:\n",
    "            output = model(X)\n",
    "            total_loss += loss_function(output, y).item()\n",
    "\n",
    "    avg_loss = total_loss / num_batches\n",
    "    print(f\"Test loss: {avg_loss}\")\n",
    "    return avg_loss"
   ]
  },
  {
   "cell_type": "markdown",
   "id": "91e5ec5b",
   "metadata": {},
   "source": [
    "## Running the Classical LSTM"
   ]
  },
  {
   "cell_type": "markdown",
   "id": "d5cefcf8",
   "metadata": {},
   "source": [
    "To understand our implementation of QLSTM, we first explain our implementation LSTM. LSTM follows the following structure:\n",
    "\n",
    "<img src=\"lstm2.jpg\" alt=\"drawing\" width=\"400\"/>\n",
    "\n",
    "Image taken from: Quantum Long Short-Term Memory, https://arxiv.org/pdf/2009.01783.pdf (Samuel Yen-Chi Chen, Shinjae Yoo, and Yao-Lung L. Fang (2020)) \n",
    "\n",
    "Simply put, LSTM uses 4 neural network layers in each LSTM cell. They are:\n",
    "\n",
    "- Forget layer\n",
    "- Input layer\n",
    "- Update layer\n",
    "- Output layer\n",
    "\n",
    "We can see the corresponding layers in the W cells in the picture above. We will be skipping the technical details, but it is important to note that these 4 layers are the keys to building an LSTM neural network model that we can train and eventually use to predict. They usually take the form of a normal NN layer (like a linear layer with reLU or convolutional layers).\n",
    "\n",
    "LSTMs are well studied, and there is a native implementation of it in PyTorch to begin with, so we use a slightly modified version of it for the time series LSTM that we perform here. The code for the time series LSTM was reused from:\n",
    "\n",
    "How to use PyTorch LSTMs for time series regression: https://www.crosstab.io/articles/time-series-pytorch-lstm, Brian Kent.\n",
    "\n",
    "In the following code, we train LSTM to predict future stock prices, and then test it on the test dataset. The learning rate of 0.0001 was decided after some experimentation, where we chose the learning rate that gave accurate results. The number of epochs we use is 20, by which it would have converged and thus would suffice for the purposes of this notebook. After that, we visualize three different graphs: the comparison between the real stock prices and the ones given by the model; and the evolution of test loss and training loss by epoch."
   ]
  },
  {
   "cell_type": "code",
   "execution_count": 18,
   "id": "cfe97e9f",
   "metadata": {},
   "outputs": [],
   "source": [
    "from Factory import ShallowRegressionLSTM"
   ]
  },
  {
   "cell_type": "code",
   "execution_count": 19,
   "id": "8aa88db5",
   "metadata": {},
   "outputs": [],
   "source": [
    "learning_rate = 0.0001\n",
    "num_hidden_units = 16\n",
    "\n",
    "model = ShallowRegressionLSTM(num_sensors=len(features), hidden_units=num_hidden_units)\n",
    "loss_function = nn.MSELoss()\n",
    "optimizer = torch.optim.Adam(model.parameters(), lr=learning_rate)"
   ]
  },
  {
   "cell_type": "code",
   "execution_count": 20,
   "id": "c9e0d9f0",
   "metadata": {},
   "outputs": [
    {
     "name": "stdout",
     "output_type": "stream",
     "text": [
      "Untrained test\n",
      "--------\n",
      "Test loss: 0.03206168667561251\n",
      "\n",
      "Epoch 0\n",
      "---------\n",
      "Train loss: 0.0010142640230756908\n",
      "Test loss: 4.814676204982747e-05\n",
      "\n",
      "Epoch 1\n",
      "---------\n",
      "Train loss: 0.00013916024550852517\n",
      "Test loss: 1.268294379954305e-06\n",
      "\n"
     ]
    }
   ],
   "source": [
    "classical_loss_train = []\n",
    "classical_loss_test = []\n",
    "print(\"Untrained test\\n--------\")\n",
    "test_loss = test_model(test_loader, model, loss_function)\n",
    "print()\n",
    "classical_loss_test.append(test_loss)\n",
    "\n",
    "for ix_epoch in range(2):\n",
    "    print(f\"Epoch {ix_epoch}\\n---------\")\n",
    "    train_loss = train_model(train_loader, model, loss_function, optimizer=optimizer)\n",
    "    test_loss = test_model(test_loader, model, loss_function)\n",
    "    print()\n",
    "    classical_loss_train.append(train_loss)\n",
    "    classical_loss_test.append(test_loss)"
   ]
  },
  {
   "cell_type": "markdown",
   "id": "fc2a1b71",
   "metadata": {},
   "source": [
    "We then use the model to predict the test set, and then compare the results of the prediction to the real values."
   ]
  },
  {
   "cell_type": "code",
   "execution_count": 21,
   "id": "6b34c0ec",
   "metadata": {},
   "outputs": [],
   "source": [
    "def predict(data_loader, model):\n",
    "    \"\"\"Just like `test_loop` function but keep track of the outputs instead of the loss\n",
    "    function.\n",
    "    \"\"\"\n",
    "    output = torch.tensor([])\n",
    "    model.eval()\n",
    "    with torch.no_grad():\n",
    "        for X, _ in data_loader:\n",
    "            y_star = model(X)\n",
    "            output = torch.cat((output, y_star), 0)\n",
    "    \n",
    "    return output"
   ]
  },
  {
   "cell_type": "code",
   "execution_count": null,
   "id": "a1133a97",
   "metadata": {},
   "outputs": [],
   "source": [
    "train_eval_loader = DataLoader(train_dataset, batch_size=batch_size, shuffle=False)\n",
    "\n",
    "ystar_col = \"Model forecast\"\n",
    "df_train[ystar_col] = predict(train_eval_loader, model).numpy()\n",
    "df_test[ystar_col] = predict(test_loader, model).numpy()\n",
    "\n",
    "df_out = pd.concat((df_train, df_test))[[target, ystar_col]]\n",
    "\n",
    "for c in df_out.columns:\n",
    "    df_out[c] = df_out[c] * target_stdev + target_mean\n",
    "\n",
    "print(df_out)"
   ]
  },
  {
   "cell_type": "code",
   "execution_count": 31,
   "id": "19824432",
   "metadata": {},
   "outputs": [
    {
     "data": {
      "image/png": "[encoded data removed]",
      "text/plain": [
       "<Figure size 1200x700 with 1 Axes>"
      ]
     },
     "metadata": {},
     "output_type": "display_data"
    }
   ],
   "source": [
    "plt.figure(figsize=(12, 7))\n",
    "plt.plot(df_out[\"Close_lead1\"], label = \"Real\")\n",
    "plt.plot(df_out[\"Model forecast\"], label = \"LSTM Prediction\")\n",
    "plt.ylabel('Stock Price')\n",
    "plt.xlabel('Days')\n",
    "plt.vlines(size, ymin = 30, ymax = 90, label = \"Test set start\", linestyles = \"dashed\")\n",
    "plt.legend()\n",
    "plt.show()"
   ]
  },
  {
   "cell_type": "code",
   "execution_count": 25,
   "id": "4a7e2405",
   "metadata": {},
   "outputs": [
    {
     "ename": "ValueError",
     "evalue": "x and y must have same first dimension, but have shapes (21,) and (3,)",
     "output_type": "error",
     "traceback": [
      "\u001b[0;31m---------------------------------------------------------------------------\u001b[0m",
      "\u001b[0;31mValueError\u001b[0m                                Traceback (most recent call last)",
      "\u001b[0;32m<ipython-input-25-f5bd42462267>\u001b[0m in \u001b[0;36m<module>\u001b[0;34m\u001b[0m\n\u001b[1;32m      1\u001b[0m \u001b[0mplt\u001b[0m\u001b[0;34m.\u001b[0m\u001b[0mfigure\u001b[0m\u001b[0;34m(\u001b[0m\u001b[0mfigsize\u001b[0m\u001b[0;34m=\u001b[0m\u001b[0;34m(\u001b[0m\u001b[0;36m8\u001b[0m\u001b[0;34m,\u001b[0m \u001b[0;36m6\u001b[0m\u001b[0;34m)\u001b[0m\u001b[0;34m)\u001b[0m\u001b[0;34m\u001b[0m\u001b[0;34m\u001b[0m\u001b[0m\n\u001b[0;32m----> 2\u001b[0;31m \u001b[0mplt\u001b[0m\u001b[0;34m.\u001b[0m\u001b[0mplot\u001b[0m\u001b[0;34m(\u001b[0m\u001b[0mrange\u001b[0m\u001b[0;34m(\u001b[0m\u001b[0;36m21\u001b[0m\u001b[0;34m)\u001b[0m\u001b[0;34m,\u001b[0m \u001b[0mclassical_loss_test\u001b[0m\u001b[0;34m)\u001b[0m\u001b[0;34m\u001b[0m\u001b[0;34m\u001b[0m\u001b[0m\n\u001b[0m\u001b[1;32m      3\u001b[0m \u001b[0mplt\u001b[0m\u001b[0;34m.\u001b[0m\u001b[0mylabel\u001b[0m\u001b[0;34m(\u001b[0m\u001b[0;34m'Test Loss'\u001b[0m\u001b[0;34m)\u001b[0m\u001b[0;34m\u001b[0m\u001b[0;34m\u001b[0m\u001b[0m\n\u001b[1;32m      4\u001b[0m \u001b[0mplt\u001b[0m\u001b[0;34m.\u001b[0m\u001b[0mxlabel\u001b[0m\u001b[0;34m(\u001b[0m\u001b[0;34m'Epoch'\u001b[0m\u001b[0;34m)\u001b[0m\u001b[0;34m\u001b[0m\u001b[0;34m\u001b[0m\u001b[0m\n\u001b[1;32m      5\u001b[0m \u001b[0mplt\u001b[0m\u001b[0;34m.\u001b[0m\u001b[0mshow\u001b[0m\u001b[0;34m(\u001b[0m\u001b[0;34m)\u001b[0m\u001b[0;34m\u001b[0m\u001b[0;34m\u001b[0m\u001b[0m\n",
      "\u001b[0;32m~/anaconda3/envs/Braket/lib/python3.7/site-packages/matplotlib/pyplot.py\u001b[0m in \u001b[0;36mplot\u001b[0;34m(scalex, scaley, data, *args, **kwargs)\u001b[0m\n\u001b[1;32m   2761\u001b[0m     return gca().plot(\n\u001b[1;32m   2762\u001b[0m         *args, scalex=scalex, scaley=scaley, **({\"data\": data} if data\n\u001b[0;32m-> 2763\u001b[0;31m         is not None else {}), **kwargs)\n\u001b[0m\u001b[1;32m   2764\u001b[0m \u001b[0;34m\u001b[0m\u001b[0m\n\u001b[1;32m   2765\u001b[0m \u001b[0;34m\u001b[0m\u001b[0m\n",
      "\u001b[0;32m~/anaconda3/envs/Braket/lib/python3.7/site-packages/matplotlib/axes/_axes.py\u001b[0m in \u001b[0;36mplot\u001b[0;34m(self, scalex, scaley, data, *args, **kwargs)\u001b[0m\n\u001b[1;32m   1645\u001b[0m         \"\"\"\n\u001b[1;32m   1646\u001b[0m         \u001b[0mkwargs\u001b[0m \u001b[0;34m=\u001b[0m \u001b[0mcbook\u001b[0m\u001b[0;34m.\u001b[0m\u001b[0mnormalize_kwargs\u001b[0m\u001b[0;34m(\u001b[0m\u001b[0mkwargs\u001b[0m\u001b[0;34m,\u001b[0m \u001b[0mmlines\u001b[0m\u001b[0;34m.\u001b[0m\u001b[0mLine2D\u001b[0m\u001b[0;34m)\u001b[0m\u001b[0;34m\u001b[0m\u001b[0;34m\u001b[0m\u001b[0m\n\u001b[0;32m-> 1647\u001b[0;31m         \u001b[0mlines\u001b[0m \u001b[0;34m=\u001b[0m \u001b[0;34m[\u001b[0m\u001b[0;34m*\u001b[0m\u001b[0mself\u001b[0m\u001b[0;34m.\u001b[0m\u001b[0m_get_lines\u001b[0m\u001b[0;34m(\u001b[0m\u001b[0;34m*\u001b[0m\u001b[0margs\u001b[0m\u001b[0;34m,\u001b[0m \u001b[0mdata\u001b[0m\u001b[0;34m=\u001b[0m\u001b[0mdata\u001b[0m\u001b[0;34m,\u001b[0m \u001b[0;34m**\u001b[0m\u001b[0mkwargs\u001b[0m\u001b[0;34m)\u001b[0m\u001b[0;34m]\u001b[0m\u001b[0;34m\u001b[0m\u001b[0;34m\u001b[0m\u001b[0m\n\u001b[0m\u001b[1;32m   1648\u001b[0m         \u001b[0;32mfor\u001b[0m \u001b[0mline\u001b[0m \u001b[0;32min\u001b[0m \u001b[0mlines\u001b[0m\u001b[0;34m:\u001b[0m\u001b[0;34m\u001b[0m\u001b[0;34m\u001b[0m\u001b[0m\n\u001b[1;32m   1649\u001b[0m             \u001b[0mself\u001b[0m\u001b[0;34m.\u001b[0m\u001b[0madd_line\u001b[0m\u001b[0;34m(\u001b[0m\u001b[0mline\u001b[0m\u001b[0;34m)\u001b[0m\u001b[0;34m\u001b[0m\u001b[0;34m\u001b[0m\u001b[0m\n",
      "\u001b[0;32m~/anaconda3/envs/Braket/lib/python3.7/site-packages/matplotlib/axes/_base.py\u001b[0m in \u001b[0;36m__call__\u001b[0;34m(self, *args, **kwargs)\u001b[0m\n\u001b[1;32m    214\u001b[0m                 \u001b[0mthis\u001b[0m \u001b[0;34m+=\u001b[0m \u001b[0margs\u001b[0m\u001b[0;34m[\u001b[0m\u001b[0;36m0\u001b[0m\u001b[0;34m]\u001b[0m\u001b[0;34m,\u001b[0m\u001b[0;34m\u001b[0m\u001b[0;34m\u001b[0m\u001b[0m\n\u001b[1;32m    215\u001b[0m                 \u001b[0margs\u001b[0m \u001b[0;34m=\u001b[0m \u001b[0margs\u001b[0m\u001b[0;34m[\u001b[0m\u001b[0;36m1\u001b[0m\u001b[0;34m:\u001b[0m\u001b[0;34m]\u001b[0m\u001b[0;34m\u001b[0m\u001b[0;34m\u001b[0m\u001b[0m\n\u001b[0;32m--> 216\u001b[0;31m             \u001b[0;32myield\u001b[0m \u001b[0;32mfrom\u001b[0m \u001b[0mself\u001b[0m\u001b[0;34m.\u001b[0m\u001b[0m_plot_args\u001b[0m\u001b[0;34m(\u001b[0m\u001b[0mthis\u001b[0m\u001b[0;34m,\u001b[0m \u001b[0mkwargs\u001b[0m\u001b[0;34m)\u001b[0m\u001b[0;34m\u001b[0m\u001b[0;34m\u001b[0m\u001b[0m\n\u001b[0m\u001b[1;32m    217\u001b[0m \u001b[0;34m\u001b[0m\u001b[0m\n\u001b[1;32m    218\u001b[0m     \u001b[0;32mdef\u001b[0m \u001b[0mget_next_color\u001b[0m\u001b[0;34m(\u001b[0m\u001b[0mself\u001b[0m\u001b[0;34m)\u001b[0m\u001b[0;34m:\u001b[0m\u001b[0;34m\u001b[0m\u001b[0;34m\u001b[0m\u001b[0m\n",
      "\u001b[0;32m~/anaconda3/envs/Braket/lib/python3.7/site-packages/matplotlib/axes/_base.py\u001b[0m in \u001b[0;36m_plot_args\u001b[0;34m(self, tup, kwargs)\u001b[0m\n\u001b[1;32m    340\u001b[0m \u001b[0;34m\u001b[0m\u001b[0m\n\u001b[1;32m    341\u001b[0m         \u001b[0;32mif\u001b[0m \u001b[0mx\u001b[0m\u001b[0;34m.\u001b[0m\u001b[0mshape\u001b[0m\u001b[0;34m[\u001b[0m\u001b[0;36m0\u001b[0m\u001b[0;34m]\u001b[0m \u001b[0;34m!=\u001b[0m \u001b[0my\u001b[0m\u001b[0;34m.\u001b[0m\u001b[0mshape\u001b[0m\u001b[0;34m[\u001b[0m\u001b[0;36m0\u001b[0m\u001b[0;34m]\u001b[0m\u001b[0;34m:\u001b[0m\u001b[0;34m\u001b[0m\u001b[0;34m\u001b[0m\u001b[0m\n\u001b[0;32m--> 342\u001b[0;31m             raise ValueError(f\"x and y must have same first dimension, but \"\n\u001b[0m\u001b[1;32m    343\u001b[0m                              f\"have shapes {x.shape} and {y.shape}\")\n\u001b[1;32m    344\u001b[0m         \u001b[0;32mif\u001b[0m \u001b[0mx\u001b[0m\u001b[0;34m.\u001b[0m\u001b[0mndim\u001b[0m \u001b[0;34m>\u001b[0m \u001b[0;36m2\u001b[0m \u001b[0;32mor\u001b[0m \u001b[0my\u001b[0m\u001b[0;34m.\u001b[0m\u001b[0mndim\u001b[0m \u001b[0;34m>\u001b[0m \u001b[0;36m2\u001b[0m\u001b[0;34m:\u001b[0m\u001b[0;34m\u001b[0m\u001b[0;34m\u001b[0m\u001b[0m\n",
      "\u001b[0;31mValueError\u001b[0m: x and y must have same first dimension, but have shapes (21,) and (3,)"
     ]
    }
   ],
   "source": [
    "plt.figure(figsize=(8, 6))\n",
    "plt.plot(range(21), classical_loss_test)\n",
    "plt.ylabel('Test Loss')\n",
    "plt.xlabel('Epoch')\n",
    "plt.show()"
   ]
  },
  {
   "cell_type": "code",
   "execution_count": 26,
   "id": "da042731",
   "metadata": {},
   "outputs": [
    {
     "ename": "ValueError",
     "evalue": "x and y must have same first dimension, but have shapes (20,) and (2,)",
     "output_type": "error",
     "traceback": [
      "\u001b[0;31m---------------------------------------------------------------------------\u001b[0m",
      "\u001b[0;31mValueError\u001b[0m                                Traceback (most recent call last)",
      "\u001b[0;32m<ipython-input-26-6be54c8ede8f>\u001b[0m in \u001b[0;36m<module>\u001b[0;34m\u001b[0m\n\u001b[1;32m      1\u001b[0m \u001b[0mplt\u001b[0m\u001b[0;34m.\u001b[0m\u001b[0mfigure\u001b[0m\u001b[0;34m(\u001b[0m\u001b[0mfigsize\u001b[0m\u001b[0;34m=\u001b[0m\u001b[0;34m(\u001b[0m\u001b[0;36m8\u001b[0m\u001b[0;34m,\u001b[0m \u001b[0;36m6\u001b[0m\u001b[0;34m)\u001b[0m\u001b[0;34m)\u001b[0m\u001b[0;34m\u001b[0m\u001b[0;34m\u001b[0m\u001b[0m\n\u001b[0;32m----> 2\u001b[0;31m \u001b[0mplt\u001b[0m\u001b[0;34m.\u001b[0m\u001b[0mplot\u001b[0m\u001b[0;34m(\u001b[0m\u001b[0mrange\u001b[0m\u001b[0;34m(\u001b[0m\u001b[0;36m1\u001b[0m\u001b[0;34m,\u001b[0m \u001b[0;36m21\u001b[0m\u001b[0;34m)\u001b[0m\u001b[0;34m,\u001b[0m \u001b[0mclassical_loss_train\u001b[0m\u001b[0;34m)\u001b[0m\u001b[0;34m\u001b[0m\u001b[0;34m\u001b[0m\u001b[0m\n\u001b[0m\u001b[1;32m      3\u001b[0m \u001b[0mplt\u001b[0m\u001b[0;34m.\u001b[0m\u001b[0mylabel\u001b[0m\u001b[0;34m(\u001b[0m\u001b[0;34m'Train Loss'\u001b[0m\u001b[0;34m)\u001b[0m\u001b[0;34m\u001b[0m\u001b[0;34m\u001b[0m\u001b[0m\n\u001b[1;32m      4\u001b[0m \u001b[0mplt\u001b[0m\u001b[0;34m.\u001b[0m\u001b[0mxlabel\u001b[0m\u001b[0;34m(\u001b[0m\u001b[0;34m'Epoch'\u001b[0m\u001b[0;34m)\u001b[0m\u001b[0;34m\u001b[0m\u001b[0;34m\u001b[0m\u001b[0m\n\u001b[1;32m      5\u001b[0m \u001b[0mplt\u001b[0m\u001b[0;34m.\u001b[0m\u001b[0mshow\u001b[0m\u001b[0;34m(\u001b[0m\u001b[0;34m)\u001b[0m\u001b[0;34m\u001b[0m\u001b[0;34m\u001b[0m\u001b[0m\n",
      "\u001b[0;32m~/anaconda3/envs/Braket/lib/python3.7/site-packages/matplotlib/pyplot.py\u001b[0m in \u001b[0;36mplot\u001b[0;34m(scalex, scaley, data, *args, **kwargs)\u001b[0m\n\u001b[1;32m   2761\u001b[0m     return gca().plot(\n\u001b[1;32m   2762\u001b[0m         *args, scalex=scalex, scaley=scaley, **({\"data\": data} if data\n\u001b[0;32m-> 2763\u001b[0;31m         is not None else {}), **kwargs)\n\u001b[0m\u001b[1;32m   2764\u001b[0m \u001b[0;34m\u001b[0m\u001b[0m\n\u001b[1;32m   2765\u001b[0m \u001b[0;34m\u001b[0m\u001b[0m\n",
      "\u001b[0;32m~/anaconda3/envs/Braket/lib/python3.7/site-packages/matplotlib/axes/_axes.py\u001b[0m in \u001b[0;36mplot\u001b[0;34m(self, scalex, scaley, data, *args, **kwargs)\u001b[0m\n\u001b[1;32m   1645\u001b[0m         \"\"\"\n\u001b[1;32m   1646\u001b[0m         \u001b[0mkwargs\u001b[0m \u001b[0;34m=\u001b[0m \u001b[0mcbook\u001b[0m\u001b[0;34m.\u001b[0m\u001b[0mnormalize_kwargs\u001b[0m\u001b[0;34m(\u001b[0m\u001b[0mkwargs\u001b[0m\u001b[0;34m,\u001b[0m \u001b[0mmlines\u001b[0m\u001b[0;34m.\u001b[0m\u001b[0mLine2D\u001b[0m\u001b[0;34m)\u001b[0m\u001b[0;34m\u001b[0m\u001b[0;34m\u001b[0m\u001b[0m\n\u001b[0;32m-> 1647\u001b[0;31m         \u001b[0mlines\u001b[0m \u001b[0;34m=\u001b[0m \u001b[0;34m[\u001b[0m\u001b[0;34m*\u001b[0m\u001b[0mself\u001b[0m\u001b[0;34m.\u001b[0m\u001b[0m_get_lines\u001b[0m\u001b[0;34m(\u001b[0m\u001b[0;34m*\u001b[0m\u001b[0margs\u001b[0m\u001b[0;34m,\u001b[0m \u001b[0mdata\u001b[0m\u001b[0;34m=\u001b[0m\u001b[0mdata\u001b[0m\u001b[0;34m,\u001b[0m \u001b[0;34m**\u001b[0m\u001b[0mkwargs\u001b[0m\u001b[0;34m)\u001b[0m\u001b[0;34m]\u001b[0m\u001b[0;34m\u001b[0m\u001b[0;34m\u001b[0m\u001b[0m\n\u001b[0m\u001b[1;32m   1648\u001b[0m         \u001b[0;32mfor\u001b[0m \u001b[0mline\u001b[0m \u001b[0;32min\u001b[0m \u001b[0mlines\u001b[0m\u001b[0;34m:\u001b[0m\u001b[0;34m\u001b[0m\u001b[0;34m\u001b[0m\u001b[0m\n\u001b[1;32m   1649\u001b[0m             \u001b[0mself\u001b[0m\u001b[0;34m.\u001b[0m\u001b[0madd_line\u001b[0m\u001b[0;34m(\u001b[0m\u001b[0mline\u001b[0m\u001b[0;34m)\u001b[0m\u001b[0;34m\u001b[0m\u001b[0;34m\u001b[0m\u001b[0m\n",
      "\u001b[0;32m~/anaconda3/envs/Braket/lib/python3.7/site-packages/matplotlib/axes/_base.py\u001b[0m in \u001b[0;36m__call__\u001b[0;34m(self, *args, **kwargs)\u001b[0m\n\u001b[1;32m    214\u001b[0m                 \u001b[0mthis\u001b[0m \u001b[0;34m+=\u001b[0m \u001b[0margs\u001b[0m\u001b[0;34m[\u001b[0m\u001b[0;36m0\u001b[0m\u001b[0;34m]\u001b[0m\u001b[0;34m,\u001b[0m\u001b[0;34m\u001b[0m\u001b[0;34m\u001b[0m\u001b[0m\n\u001b[1;32m    215\u001b[0m                 \u001b[0margs\u001b[0m \u001b[0;34m=\u001b[0m \u001b[0margs\u001b[0m\u001b[0;34m[\u001b[0m\u001b[0;36m1\u001b[0m\u001b[0;34m:\u001b[0m\u001b[0;34m]\u001b[0m\u001b[0;34m\u001b[0m\u001b[0;34m\u001b[0m\u001b[0m\n\u001b[0;32m--> 216\u001b[0;31m             \u001b[0;32myield\u001b[0m \u001b[0;32mfrom\u001b[0m \u001b[0mself\u001b[0m\u001b[0;34m.\u001b[0m\u001b[0m_plot_args\u001b[0m\u001b[0;34m(\u001b[0m\u001b[0mthis\u001b[0m\u001b[0;34m,\u001b[0m \u001b[0mkwargs\u001b[0m\u001b[0;34m)\u001b[0m\u001b[0;34m\u001b[0m\u001b[0;34m\u001b[0m\u001b[0m\n\u001b[0m\u001b[1;32m    217\u001b[0m \u001b[0;34m\u001b[0m\u001b[0m\n\u001b[1;32m    218\u001b[0m     \u001b[0;32mdef\u001b[0m \u001b[0mget_next_color\u001b[0m\u001b[0;34m(\u001b[0m\u001b[0mself\u001b[0m\u001b[0;34m)\u001b[0m\u001b[0;34m:\u001b[0m\u001b[0;34m\u001b[0m\u001b[0;34m\u001b[0m\u001b[0m\n",
      "\u001b[0;32m~/anaconda3/envs/Braket/lib/python3.7/site-packages/matplotlib/axes/_base.py\u001b[0m in \u001b[0;36m_plot_args\u001b[0;34m(self, tup, kwargs)\u001b[0m\n\u001b[1;32m    340\u001b[0m \u001b[0;34m\u001b[0m\u001b[0m\n\u001b[1;32m    341\u001b[0m         \u001b[0;32mif\u001b[0m \u001b[0mx\u001b[0m\u001b[0;34m.\u001b[0m\u001b[0mshape\u001b[0m\u001b[0;34m[\u001b[0m\u001b[0;36m0\u001b[0m\u001b[0;34m]\u001b[0m \u001b[0;34m!=\u001b[0m \u001b[0my\u001b[0m\u001b[0;34m.\u001b[0m\u001b[0mshape\u001b[0m\u001b[0;34m[\u001b[0m\u001b[0;36m0\u001b[0m\u001b[0;34m]\u001b[0m\u001b[0;34m:\u001b[0m\u001b[0;34m\u001b[0m\u001b[0;34m\u001b[0m\u001b[0m\n\u001b[0;32m--> 342\u001b[0;31m             raise ValueError(f\"x and y must have same first dimension, but \"\n\u001b[0m\u001b[1;32m    343\u001b[0m                              f\"have shapes {x.shape} and {y.shape}\")\n\u001b[1;32m    344\u001b[0m         \u001b[0;32mif\u001b[0m \u001b[0mx\u001b[0m\u001b[0;34m.\u001b[0m\u001b[0mndim\u001b[0m \u001b[0;34m>\u001b[0m \u001b[0;36m2\u001b[0m \u001b[0;32mor\u001b[0m \u001b[0my\u001b[0m\u001b[0;34m.\u001b[0m\u001b[0mndim\u001b[0m \u001b[0;34m>\u001b[0m \u001b[0;36m2\u001b[0m\u001b[0;34m:\u001b[0m\u001b[0;34m\u001b[0m\u001b[0;34m\u001b[0m\u001b[0m\n",
      "\u001b[0;31mValueError\u001b[0m: x and y must have same first dimension, but have shapes (20,) and (2,)"
     ]
    }
   ],
   "source": [
    "plt.figure(figsize=(8, 6))\n",
    "plt.plot(range(1, 21), classical_loss_train)\n",
    "plt.ylabel('Train Loss')\n",
    "plt.xlabel('Epoch')\n",
    "plt.show()"
   ]
  },
  {
   "cell_type": "markdown",
   "id": "86d813e0",
   "metadata": {},
   "source": [
    "# Running the QLSTM"
   ]
  },
  {
   "cell_type": "markdown",
   "id": "cf0fa9f1",
   "metadata": {},
   "source": [
    "To implement QLSTM, we then replace the 4 key layers of the LSTM with variational quantum layers enabled by Pennylane. The variational quantum layers are based on the following variational quantum circuits:\n",
    "\n",
    "<img src=\"vqc.jpg\" alt=\"drawing\" width=\"600\"/>\n",
    "\n",
    "Image taken from: Quantum Long Short-Term Memory, https://arxiv.org/pdf/2009.01783.pdf. By Samuel Yen-Chi Chen, Shinjae Yoo, and Yao-Lung L. Fang\n",
    "\n",
    "Thus, the parameters to be trained instead becomes the rotational parameters within the circuits, hence forming a hybrid quantum-classical neural network layer (as the optimizer is classical). In the paper on QLSTM, they show that the trainability of the QLSTM is better as \"learns significantly more information than the LSTM does right after the first training epoch, and its loss decreases more stably and faster than that of its classical counterpart\" (20). Thus, in this study, we hope to show that QLSTM has potential be more accurate and learn more per epoch than its classical counterpart. \n",
    "\n",
    "The code for the QLSTM was first taken from:\n",
    "\n",
    "Example of a QLSTM: https://github.com/rdisipio/qlstm, Riccardo Di Sipio <br>\n",
    "\n",
    "Although we have repurposed it and changed some of it to fit our purposes, for example to follow the variational quantum quantum circuits shown above. We also use the inbuilt Pennylane simulator to run these variational quantum circuits.\n",
    "\n",
    "In the following code, we proceed to train a QLSTM model to predict the stock prices of MRK stock, which will provide a proof of concept that QLSTM not only can be used for stock prices prediction, but also has advantages over its classical counterpart. The number of qubits we use is 4, the number of variational layers used is 1, and the learning rate is 0.05. For the number of qubits, we decided on that value as we wanted to show that it was possible even on a small number of qubits; while the latter 2 parameters were decided on by experimentation on a small number of epochs to see which gave the best results. After that, we proceed to see 3 different graphs that we saw in the classical example."
   ]
  },
  {
   "cell_type": "code",
   "execution_count": 32,
   "id": "fe58264e",
   "metadata": {},
   "outputs": [],
   "source": [
    "from Factory import QShallowRegressionLSTM"
   ]
  },
  {
   "cell_type": "code",
   "execution_count": 45,
   "id": "9e1efdc7",
   "metadata": {},
   "outputs": [
    {
     "name": "stdout",
     "output_type": "stream",
     "text": [
      "weight_shapes = (n_qlayers, n_vrotations, n_qubits) = (1, 3, 4)\n"
     ]
    }
   ],
   "source": [
    "learning_rate = 0.05\n",
    "num_hidden_units = 16\n",
    "\n",
    "Qmodel = QShallowRegressionLSTM(num_sensors=len(features), hidden_units=num_hidden_units, n_qubits=4)\n",
    "loss_function = nn.MSELoss()\n",
    "optimizer = torch.optim.Adagrad(Qmodel.parameters(), lr=learning_rate)"
   ]
  },
  {
   "cell_type": "code",
   "execution_count": 35,
   "id": "768d70c7",
   "metadata": {
    "collapsed": true,
    "jupyter": {
     "outputs_hidden": true
    }
   },
   "outputs": [
    {
     "name": "stdout",
     "output_type": "stream",
     "text": [
      "Looking in indexes: https://pypi.org/simple, https://pip.repos.neuron.amazonaws.com\n",
      "Requirement already satisfied: amazon-braket-pennylane-plugin in /home/ec2-user/anaconda3/envs/Braket/lib/python3.7/site-packages (1.6.5)\n",
      "Requirement already satisfied: amazon-braket-sdk in /home/ec2-user/anaconda3/envs/Braket/lib/python3.7/site-packages (from amazon-braket-pennylane-plugin) (1.24.0)\n",
      "Requirement already satisfied: pennylane>=0.22.0 in /home/ec2-user/anaconda3/envs/Braket/lib/python3.7/site-packages (from amazon-braket-pennylane-plugin) (0.22.0)\n",
      "Requirement already satisfied: toml in /home/ec2-user/anaconda3/envs/Braket/lib/python3.7/site-packages (from pennylane>=0.22.0->amazon-braket-pennylane-plugin) (0.10.2)\n",
      "Requirement already satisfied: scipy in /home/ec2-user/anaconda3/envs/Braket/lib/python3.7/site-packages (from pennylane>=0.22.0->amazon-braket-pennylane-plugin) (1.5.2)\n",
      "Requirement already satisfied: cachetools in /home/ec2-user/anaconda3/envs/Braket/lib/python3.7/site-packages (from pennylane>=0.22.0->amazon-braket-pennylane-plugin) (4.2.4)\n",
      "Requirement already satisfied: pennylane-lightning>=0.22 in /home/ec2-user/anaconda3/envs/Braket/lib/python3.7/site-packages (from pennylane>=0.22.0->amazon-braket-pennylane-plugin) (0.23.0)\n",
      "Requirement already satisfied: numpy in /home/ec2-user/anaconda3/envs/Braket/lib/python3.7/site-packages (from pennylane>=0.22.0->amazon-braket-pennylane-plugin) (1.19.2)\n",
      "Requirement already satisfied: autograd in /home/ec2-user/anaconda3/envs/Braket/lib/python3.7/site-packages (from pennylane>=0.22.0->amazon-braket-pennylane-plugin) (1.4)\n",
      "Requirement already satisfied: networkx in /home/ec2-user/anaconda3/envs/Braket/lib/python3.7/site-packages (from pennylane>=0.22.0->amazon-braket-pennylane-plugin) (2.4)\n",
      "Requirement already satisfied: appdirs in /home/ec2-user/anaconda3/envs/Braket/lib/python3.7/site-packages (from pennylane>=0.22.0->amazon-braket-pennylane-plugin) (1.4.4)\n",
      "Requirement already satisfied: retworkx in /home/ec2-user/anaconda3/envs/Braket/lib/python3.7/site-packages (from pennylane>=0.22.0->amazon-braket-pennylane-plugin) (0.11.0)\n",
      "Requirement already satisfied: autoray in /home/ec2-user/anaconda3/envs/Braket/lib/python3.7/site-packages (from pennylane>=0.22.0->amazon-braket-pennylane-plugin) (0.3.1)\n",
      "Requirement already satisfied: semantic-version==2.6 in /home/ec2-user/anaconda3/envs/Braket/lib/python3.7/site-packages (from pennylane>=0.22.0->amazon-braket-pennylane-plugin) (2.6.0)\n",
      "Requirement already satisfied: ninja in /home/ec2-user/anaconda3/envs/Braket/lib/python3.7/site-packages (from pennylane-lightning>=0.22->pennylane>=0.22.0->amazon-braket-pennylane-plugin) (1.10.2.3)\n",
      "Requirement already satisfied: nest-asyncio in /home/ec2-user/anaconda3/envs/Braket/lib/python3.7/site-packages (from amazon-braket-sdk->amazon-braket-pennylane-plugin) (1.5.5)\n",
      "Requirement already satisfied: backoff in /home/ec2-user/anaconda3/envs/Braket/lib/python3.7/site-packages (from amazon-braket-sdk->amazon-braket-pennylane-plugin) (2.0.1)\n",
      "Requirement already satisfied: boto3 in /home/ec2-user/anaconda3/envs/Braket/lib/python3.7/site-packages (from amazon-braket-sdk->amazon-braket-pennylane-plugin) (1.22.3)\n",
      "Requirement already satisfied: boltons in /home/ec2-user/anaconda3/envs/Braket/lib/python3.7/site-packages (from amazon-braket-sdk->amazon-braket-pennylane-plugin) (21.0.0)\n",
      "Requirement already satisfied: amazon-braket-default-simulator in /home/ec2-user/anaconda3/envs/Braket/lib/python3.7/site-packages (from amazon-braket-sdk->amazon-braket-pennylane-plugin) (1.3.0)\n",
      "Requirement already satisfied: sympy in /home/ec2-user/anaconda3/envs/Braket/lib/python3.7/site-packages (from amazon-braket-sdk->amazon-braket-pennylane-plugin) (1.10.1)\n",
      "Requirement already satisfied: amazon-braket-schemas in /home/ec2-user/anaconda3/envs/Braket/lib/python3.7/site-packages (from amazon-braket-default-simulator->amazon-braket-sdk->amazon-braket-pennylane-plugin) (1.8.0.dev0)\n",
      "Requirement already satisfied: opt-einsum in /home/ec2-user/anaconda3/envs/Braket/lib/python3.7/site-packages (from amazon-braket-default-simulator->amazon-braket-sdk->amazon-braket-pennylane-plugin) (3.3.0)\n",
      "Requirement already satisfied: pydantic<2.0.0,>=1.8.2 in /home/ec2-user/anaconda3/envs/Braket/lib/python3.7/site-packages (from amazon-braket-schemas->amazon-braket-default-simulator->amazon-braket-sdk->amazon-braket-pennylane-plugin) (1.9.0)\n",
      "Requirement already satisfied: typing-extensions>=3.7.4.3 in /home/ec2-user/anaconda3/envs/Braket/lib/python3.7/site-packages (from pydantic<2.0.0,>=1.8.2->amazon-braket-schemas->amazon-braket-default-simulator->amazon-braket-sdk->amazon-braket-pennylane-plugin) (4.2.0)\n",
      "Requirement already satisfied: future>=0.15.2 in /home/ec2-user/anaconda3/envs/Braket/lib/python3.7/site-packages (from autograd->pennylane>=0.22.0->amazon-braket-pennylane-plugin) (0.18.2)\n",
      "Requirement already satisfied: s3transfer<0.6.0,>=0.5.0 in /home/ec2-user/anaconda3/envs/Braket/lib/python3.7/site-packages (from boto3->amazon-braket-sdk->amazon-braket-pennylane-plugin) (0.5.0)\n",
      "Requirement already satisfied: jmespath<2.0.0,>=0.7.1 in /home/ec2-user/anaconda3/envs/Braket/lib/python3.7/site-packages (from boto3->amazon-braket-sdk->amazon-braket-pennylane-plugin) (1.0.0)\n",
      "Requirement already satisfied: botocore<1.26.0,>=1.25.3 in /home/ec2-user/anaconda3/envs/Braket/lib/python3.7/site-packages (from boto3->amazon-braket-sdk->amazon-braket-pennylane-plugin) (1.25.13)\n",
      "Requirement already satisfied: python-dateutil<3.0.0,>=2.1 in /home/ec2-user/anaconda3/envs/Braket/lib/python3.7/site-packages (from botocore<1.26.0,>=1.25.3->boto3->amazon-braket-sdk->amazon-braket-pennylane-plugin) (2.8.2)\n",
      "Requirement already satisfied: urllib3<1.27,>=1.25.4 in /home/ec2-user/anaconda3/envs/Braket/lib/python3.7/site-packages (from botocore<1.26.0,>=1.25.3->boto3->amazon-braket-sdk->amazon-braket-pennylane-plugin) (1.26.9)\n",
      "Requirement already satisfied: six>=1.5 in /home/ec2-user/anaconda3/envs/Braket/lib/python3.7/site-packages (from python-dateutil<3.0.0,>=2.1->botocore<1.26.0,>=1.25.3->boto3->amazon-braket-sdk->amazon-braket-pennylane-plugin) (1.15.0)\n",
      "Requirement already satisfied: decorator>=4.3.0 in /home/ec2-user/anaconda3/envs/Braket/lib/python3.7/site-packages (from networkx->pennylane>=0.22.0->amazon-braket-pennylane-plugin) (4.4.0)\n",
      "Requirement already satisfied: mpmath>=0.19 in /home/ec2-user/anaconda3/envs/Braket/lib/python3.7/site-packages (from sympy->amazon-braket-sdk->amazon-braket-pennylane-plugin) (1.2.1)\n"
     ]
    }
   ],
   "source": [
    "!pip install amazon-braket-pennylane-plugin"
   ]
  },
  {
   "cell_type": "code",
   "execution_count": 41,
   "id": "abeb1c3e",
   "metadata": {},
   "outputs": [],
   "source": [
    "# to use SV1\n",
    "import pennylane as qml\n",
    "s3 = (\"dataset-bucket\", \"quantum_results\")\n",
    "sv1 = qml.device(\"braket.aws.qubit\", device_arn=\"arn:aws:braket:::device/quantum-simulator/amazon/sv1\", wires=2)\n",
    "\n",
    "# to run a circuit:\n",
    "@qml.qnode(sv1)\n",
    "def circuit(x):\n",
    "    qml.RZ(x, wires=0)\n",
    "    qml.CNOT(wires=[0,1])\n",
    "    qml.RY(x, wires=1)\n",
    "    return qml.expval(qml.PauliZ(1))\n",
    "\n",
    "result = circuit(0.543)"
   ]
  },
  {
   "cell_type": "code",
   "execution_count": null,
   "id": "fe2b1226",
   "metadata": {},
   "outputs": [
    {
     "name": "stdout",
     "output_type": "stream",
     "text": [
      "Untrained test\n",
      "--------\n"
     ]
    }
   ],
   "source": [
    "quantum_loss_train = []\n",
    "quantum_loss_test = []\n",
    "print(\"Untrained test\\n--------\")\n",
    "start = time.time()\n",
    "test_loss = test_model(test_loader, Qmodel, loss_function)\n",
    "end = time.time()\n",
    "print(\"Execution time\", end - start)\n",
    "quantum_loss_test.append(test_loss)\n",
    "\n",
    "#TODO aesteveb baixat a 2 epochs\n",
    "for ix_epoch in range(2):\n",
    "    print(f\"Epoch {ix_epoch}\\n---------\")\n",
    "    start = time.time()\n",
    "    train_loss = train_model(train_loader, Qmodel, loss_function, optimizer=optimizer)\n",
    "    test_loss = test_model(test_loader, Qmodel, loss_function)\n",
    "    end = time.time()\n",
    "    print(\"Execution time\", end - start)\n",
    "    quantum_loss_train.append(train_loss)\n",
    "    quantum_loss_test.append(test_loss)"
   ]
  },
  {
   "cell_type": "code",
   "execution_count": 21,
   "id": "cbdf9605",
   "metadata": {},
   "outputs": [
    {
     "name": "stdout",
     "output_type": "stream",
     "text": [
      "      Close_lead1  Model forecast\n",
      "0       31.440840       31.002151\n",
      "1       31.183207       31.380974\n",
      "2       31.364504       31.216324\n",
      "3       30.839695       31.390160\n",
      "4       30.944656       30.984196\n",
      "...           ...             ...\n",
      "2712    77.814888       64.919403\n",
      "2713    78.492363       64.940987\n",
      "2714    79.103050       64.974854\n",
      "2715    78.492363       64.995659\n",
      "2716    78.024811       64.997223\n",
      "\n",
      "[2718 rows x 2 columns]\n"
     ]
    }
   ],
   "source": [
    "train_eval_loader = DataLoader(train_dataset, batch_size=batch_size, shuffle=False)\n",
    "\n",
    "ystar_col_Q = \"Model forecast\"\n",
    "df_train[ystar_col_Q] = predict(train_eval_loader, Qmodel).numpy()\n",
    "df_test[ystar_col_Q] = predict(test_loader, Qmodel).numpy()\n",
    "\n",
    "df_out_Q = pd.concat((df_train, df_test))[[target, ystar_col_Q]]\n",
    "\n",
    "for c in df_out_Q.columns:\n",
    "    df_out_Q[c] = df_out_Q[c] * target_stdev + target_mean\n",
    "\n",
    "print(df_out_Q)"
   ]
  },
  {
   "cell_type": "code",
   "execution_count": 22,
   "id": "20a3bf7e",
   "metadata": {},
   "outputs": [
    {
     "data": {
      "image/png": "[encoded data removed]",
      "text/plain": [
       "<Figure size 864x504 with 1 Axes>"
      ]
     },
     "metadata": {
      "needs_background": "light"
     },
     "output_type": "display_data"
    }
   ],
   "source": [
    "plt.figure(figsize=(12, 7))\n",
    "plt.plot(range(2718), df_out_Q[\"Close_lead1\"], label = \"Real\")\n",
    "plt.plot(range(2718), df_out_Q[\"Model forecast\"], label = \"QLSTM Prediction\")\n",
    "plt.ylabel('Stock Price')\n",
    "plt.xlabel('Days')\n",
    "plt.vlines(size, ymin = 30, ymax = 90, label = \"Test set start\", linestyles = \"dashed\")\n",
    "plt.legend()\n",
    "plt.show()"
   ]
  },
  {
   "cell_type": "code",
   "execution_count": 23,
   "id": "b6b203c6",
   "metadata": {},
   "outputs": [
    {
     "data": {
      "image/png": "[encoded data removed]",
      "text/plain": [
       "<Figure size 576x432 with 1 Axes>"
      ]
     },
     "metadata": {
      "needs_background": "light"
     },
     "output_type": "display_data"
    }
   ],
   "source": [
    "plt.figure(figsize=(8, 6))\n",
    "plt.plot(range(21), quantum_loss_test)\n",
    "plt.ylabel('Test Loss')\n",
    "plt.xlabel('Epoch')\n",
    "plt.show()"
   ]
  },
  {
   "cell_type": "code",
   "execution_count": 24,
   "id": "7367d041",
   "metadata": {},
   "outputs": [
    {
     "data": {
      "image/png": "[encoded data removed]",
      "text/plain": [
       "<Figure size 576x432 with 1 Axes>"
      ]
     },
     "metadata": {
      "needs_background": "light"
     },
     "output_type": "display_data"
    }
   ],
   "source": [
    "plt.figure(figsize=(8, 6))\n",
    "plt.plot(range(1,21), quantum_loss_train)\n",
    "plt.ylabel('Test Loss')\n",
    "plt.xlabel('Epoch')\n",
    "plt.show()"
   ]
  },
  {
   "cell_type": "markdown",
   "id": "53b8e5a6",
   "metadata": {},
   "source": [
    "# Comparison between Classical LSTM and QLSTM"
   ]
  },
  {
   "cell_type": "markdown",
   "id": "36a0887a",
   "metadata": {},
   "source": [
    "Now that we have trained both models and seen some preliminary results on both of them, we want to properly compare the results on the same graph to see how they perform against each other. To do so, we compare them in the following manner:\n",
    "\n",
    "- Compare the predictions of the models\n",
    "- Compare the loss per epoch for both training and test loss\n",
    "- Discuss Complexity analysis, and compare number of parameters"
   ]
  },
  {
   "cell_type": "markdown",
   "id": "466deff7",
   "metadata": {},
   "source": [
    "## Comparison of predictions"
   ]
  },
  {
   "cell_type": "code",
   "execution_count": 25,
   "id": "f32b2070",
   "metadata": {},
   "outputs": [
    {
     "data": {
      "image/png": "[encoded data removed]",
      "text/plain": [
       "<Figure size 864x504 with 1 Axes>"
      ]
     },
     "metadata": {
      "needs_background": "light"
     },
     "output_type": "display_data"
    }
   ],
   "source": [
    "plt.figure(figsize=(12, 7))\n",
    "plt.plot(range(2718), df_out[\"Close_lead1\"], label = \"Real\")\n",
    "plt.plot(range(2718), df_out[\"Model forecast\"], label = \"LSTM\")\n",
    "plt.plot(range(2718), df_out_Q[\"Model forecast\"], label = \"QLSTM\")\n",
    "plt.ylabel('Stock Price')\n",
    "plt.xlabel('Days')\n",
    "plt.vlines(size, ymin = 30, ymax = 90, label = \"Test set start\", linestyles = \"dashed\")\n",
    "plt.legend()\n",
    "plt.show()"
   ]
  },
  {
   "cell_type": "markdown",
   "id": "403c043b",
   "metadata": {},
   "source": [
    "As we can see from the graph, both the LSTM and QLSTM give comparable results. Both manage to predict the training set extremely well, and for a while after the start of the test set, they give extremely accurate predictions for a long period before starting to diverge from the real values. Furthermore, despite their divergence from it, they both still managed to capture some parts of the variation."
   ]
  },
  {
   "cell_type": "markdown",
   "id": "ec8b9637",
   "metadata": {},
   "source": [
    "## Comparison of evolution of loss values"
   ]
  },
  {
   "cell_type": "markdown",
   "id": "39b9c7d7",
   "metadata": {},
   "source": [
    "Next, we want to compare the evolution of the loss values by epoch.\n",
    "\n",
    "First, we compare the evolution of the train loss."
   ]
  },
  {
   "cell_type": "code",
   "execution_count": 26,
   "id": "bb040ac7",
   "metadata": {},
   "outputs": [
    {
     "data": {
      "image/png": "[encoded data removed]",
      "text/plain": [
       "<Figure size 576x432 with 1 Axes>"
      ]
     },
     "metadata": {
      "needs_background": "light"
     },
     "output_type": "display_data"
    }
   ],
   "source": [
    "plt.figure(figsize=(8, 6))\n",
    "plt.plot(range(1,21), classical_loss_train, label = \"LSTM\")\n",
    "plt.plot(range(1,21), quantum_loss_train, label = \"QLSTM\")\n",
    "plt.ylabel('Train Loss')\n",
    "plt.xlabel('Epoch')\n",
    "plt.legend()\n",
    "plt.show()"
   ]
  },
  {
   "cell_type": "markdown",
   "id": "1ee97d79",
   "metadata": {},
   "source": [
    "We see that QLSTM learns much more information in the first few epochs as compared to LSTM, and that the results converge much faster as compared to its classical counterpart, although they both eventually converge to a suitably low value. This shows its improved trainability."
   ]
  },
  {
   "cell_type": "code",
   "execution_count": 27,
   "id": "561a974b",
   "metadata": {},
   "outputs": [
    {
     "data": {
      "image/png": "[encoded data removed]",
      "text/plain": [
       "<Figure size 864x504 with 1 Axes>"
      ]
     },
     "metadata": {
      "needs_background": "light"
     },
     "output_type": "display_data"
    }
   ],
   "source": [
    "plt.figure(figsize=(12, 7))\n",
    "plt.plot(range(21), classical_loss_test, label = \"LSTM\")\n",
    "plt.plot(range(21), quantum_loss_test, label = \"QLSTM\")\n",
    "plt.ylabel('Test Loss')\n",
    "plt.xlabel('Epoch')\n",
    "plt.legend()\n",
    "plt.show()"
   ]
  },
  {
   "cell_type": "markdown",
   "id": "8014d1fc",
   "metadata": {},
   "source": [
    "Similar to the training loss, we can see that for the test loss, QLSTM learns much more information in the first few epochs as compared to LSTM as well, and converges to a lower value much faster. Even more admirably, the QLSTM converges to an even lower test loss compared to the LSTM, speaking again to its improved trainability, although as can be seen from the results of the predictions that the predictions are still fairly comparable."
   ]
  },
  {
   "cell_type": "markdown",
   "id": "2057ec0f",
   "metadata": {},
   "source": [
    "## Complexity analysis"
   ]
  },
  {
   "cell_type": "markdown",
   "id": "cb28c9bf",
   "metadata": {},
   "source": [
    "For the final point of comparison, we discuss the complexity analysis for the QLSTM, as well as compare the number of parameters used for the LSTM and the QLSTM.\n",
    "\n",
    "Our goal is to eventually use the QLSTM on real quantum computers, so it would be prudent to discuss its viability in terms of the number of gates and qubits required. Firstly, we discuss the number of qubits. As found in early version of QLSTM, we can use small number of qubits, for instance 4, since we can sandwich LSTM between two classical layers, where the classical layers help to convert the vector sizes to the correct amount, from the embedding of input features into the quantum circuit to the processing of the output measurements. This idea is similar to dressed quantum circuits presented in:\n",
    "\n",
    "Transfer learning in hybrid classical-quantum neural networks: https://arxiv.org/abs/1912.08278, Andrea Mari, Thomas R. Bromley, Josh Izaac, Maria Schuld, Nathan Killoran\n",
    "\n",
    "In the foreseeable future in the NISQ era, we would likely continue to use the same technique, although the number of qubits can be increased to improve the model.\n",
    "\n",
    "Regarding the number of gates used per circuit, we study that the overall depth increases with increase in number of qubits and number of layers. As shown in the above circuit, the overall depth is $3 + n_l * (2 * n_q + 3)$, where $n_l, n_q$ refers to the number of layers and number of qubits respectively. Thus, the overall depth would increase linearly in both number of qubits and number of layers. Consequently, depth is easy to control, and thus viable for the NISQ era. In this particular proof of example, we show that even when the number of layers is 1 (the smallest it can be) and the number of qubits is small, we still get good results. \n",
    "\n",
    "Finally we want to compare the number of parameters used:"
   ]
  },
  {
   "cell_type": "code",
   "execution_count": 28,
   "id": "3a086573",
   "metadata": {},
   "outputs": [
    {
     "name": "stdout",
     "output_type": "stream",
     "text": [
      "No. of parameters for Classical LSTM:  3217\n",
      "No. of parameters for QLSTM:  293\n"
     ]
    }
   ],
   "source": [
    "total_params = sum(p.numel() for p in model.parameters() if p.requires_grad)\n",
    "total_params_Q = sum(p.numel() for p in Qmodel.parameters() if p.requires_grad)\n",
    "\n",
    "print(\"No. of parameters for Classical LSTM: \", total_params)\n",
    "print(\"No. of parameters for QLSTM: \", total_params_Q)"
   ]
  },
  {
   "cell_type": "markdown",
   "id": "4b77f7a7",
   "metadata": {},
   "source": [
    "The native PyTorch implementation of LSTM uses a huge number of parameters for training, while QLSTM uses comparatively much fewer. This shows the advantage in trainability that QLSTM has over LSTM, where a smaller number of parameters is needed."
   ]
  },
  {
   "cell_type": "markdown",
   "id": "f6c5546a",
   "metadata": {},
   "source": [
    "# Conclusion and Future Outlook"
   ]
  },
  {
   "cell_type": "markdown",
   "id": "5c63d59c",
   "metadata": {},
   "source": [
    "In this notebook, we have given the proof of concept that QLSTM can be used to great effect for stock price prediction, offering comparable results than its classical counterpart, while requiring significantly fewer parameters to train and getting more information per epoch. This shows that this technique has potential in the financial world since any time series data can be trained using an LSTM and hence also a QLSTM. This is relevant not only to stock price predictions, but also for example company sales predictions or other key performance predictions. However, there are still many areas for improvement."
   ]
  },
  {
   "cell_type": "markdown",
   "id": "2421e45f",
   "metadata": {},
   "source": [
    "<b> Improvements on the current model </b>\n",
    "    \n",
    "From this submission, we can also see that we have been using fairly bare bones neural network techniques, like setting a fixed learning rate, using a huge number of features, and  a small sequence length. Studies have shown that setting a learning rate scheduler improves the trainability of the model; feature selection is also a key part of data management for machine leanring; and the small sequence length was chosen in interest of time. Even in the current model, although the current decisions we made provides a good proof of concept, there are many areas for improvement, so we intend to implement those improvements in the future. "
   ]
  },
  {
   "cell_type": "markdown",
   "id": "2d6f2867",
   "metadata": {},
   "source": [
    "<b> Moving from LSTM to GANs </b>\n",
    "    \n",
    "As aforementioned, our work was inspired by the study using BERT and GANs to predict stock prices. In the study, the authors use LSTM as the generator in the GAN, which motivated us to use LSTM and improve on LSTM to QLSTM in this submission.\n",
    "\n",
    "Furthermore, that paper showed that the GAN which used LSTM as a generator was better than merely using LSTM, which gives us a direction to work in for the future. Eventually, we want to move from a simple QLSTM model to a QGAN model which uses QLSTM as the generator, expanding on the current set of literature on QGANs.  We can get a better model for stock price prediction with the implementation of QGANs, and so we intend to proceed in that direction of research."
   ]
  },
  {
   "cell_type": "markdown",
   "id": "5e0b9d26",
   "metadata": {},
   "source": [
    "<b> Caveats </b>\n",
    "\n",
    "One might argue that the loss decreased a lot faster for QLSTM in comparison with LSTM  due to  different learning rates that we set. However, when experimenting with some of the higher learning rates for the classical LSTM, the result was unable to reach local minimum. We chose this learning rate as it reliably gave accurate results without the issue of convergence. We acknowledge that the result might improve with learning rate scheduler, however the same can be argued for QLSTM, hence we would have to await further experimentation for any conlusion on that argument."
   ]
  }
 ],
 "metadata": {
  "kernelspec": {
   "display_name": "conda_braket",
   "language": "python",
   "name": "conda_braket"
  },
  "language_info": {
   "codemirror_mode": {
    "name": "ipython",
    "version": 3
   },
   "file_extension": ".py",
   "mimetype": "text/x-python",
   "name": "python",
   "nbconvert_exporter": "python",
   "pygments_lexer": "ipython3",
   "version": "3.7.13"
  }
 },
 "nbformat": 4,
 "nbformat_minor": 5
}
